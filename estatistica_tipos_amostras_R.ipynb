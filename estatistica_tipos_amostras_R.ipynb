{
  "nbformat": 4,
  "nbformat_minor": 0,
  "metadata": {
    "colab": {
      "provenance": [],
      "authorship_tag": "ABX9TyPPFvXyeYkWH5w4gK60yoae",
      "include_colab_link": true
    },
    "kernelspec": {
      "name": "ir",
      "display_name": "R"
    },
    "language_info": {
      "name": "R"
    }
  },
  "cells": [
    {
      "cell_type": "markdown",
      "metadata": {
        "id": "view-in-github",
        "colab_type": "text"
      },
      "source": [
        "<a href=\"https://colab.research.google.com/github/lioradopacio/R_Python_tipos_amostragens/blob/main/estatistica_tipos_amostras_R.ipynb\" target=\"_parent\"><img src=\"https://colab.research.google.com/assets/colab-badge.svg\" alt=\"Open In Colab\"/></a>"
      ]
    },
    {
      "cell_type": "markdown",
      "source": [
        "# Amostra Aleatória Simples"
      ],
      "metadata": {
        "id": "cLmvRCH-b-D3"
      }
    },
    {
      "cell_type": "code",
      "source": [
        "#mostrando o conjunto de dados a ser analisados\n",
        "iris"
      ],
      "metadata": {
        "colab": {
          "base_uri": "https://localhost:8080/",
          "height": 1000
        },
        "id": "9vSzhbp3agD2",
        "outputId": "efa33c55-7b64-4de0-9e91-733bfef7f2c0"
      },
      "execution_count": 2,
      "outputs": [
        {
          "output_type": "display_data",
          "data": {
            "text/html": [
              "<table class=\"dataframe\">\n",
              "<caption>A data.frame: 150 × 5</caption>\n",
              "<thead>\n",
              "\t<tr><th scope=col>Sepal.Length</th><th scope=col>Sepal.Width</th><th scope=col>Petal.Length</th><th scope=col>Petal.Width</th><th scope=col>Species</th></tr>\n",
              "\t<tr><th scope=col>&lt;dbl&gt;</th><th scope=col>&lt;dbl&gt;</th><th scope=col>&lt;dbl&gt;</th><th scope=col>&lt;dbl&gt;</th><th scope=col>&lt;fct&gt;</th></tr>\n",
              "</thead>\n",
              "<tbody>\n",
              "\t<tr><td>5.1</td><td>3.5</td><td>1.4</td><td>0.2</td><td>setosa</td></tr>\n",
              "\t<tr><td>4.9</td><td>3.0</td><td>1.4</td><td>0.2</td><td>setosa</td></tr>\n",
              "\t<tr><td>4.7</td><td>3.2</td><td>1.3</td><td>0.2</td><td>setosa</td></tr>\n",
              "\t<tr><td>4.6</td><td>3.1</td><td>1.5</td><td>0.2</td><td>setosa</td></tr>\n",
              "\t<tr><td>5.0</td><td>3.6</td><td>1.4</td><td>0.2</td><td>setosa</td></tr>\n",
              "\t<tr><td>5.4</td><td>3.9</td><td>1.7</td><td>0.4</td><td>setosa</td></tr>\n",
              "\t<tr><td>4.6</td><td>3.4</td><td>1.4</td><td>0.3</td><td>setosa</td></tr>\n",
              "\t<tr><td>5.0</td><td>3.4</td><td>1.5</td><td>0.2</td><td>setosa</td></tr>\n",
              "\t<tr><td>4.4</td><td>2.9</td><td>1.4</td><td>0.2</td><td>setosa</td></tr>\n",
              "\t<tr><td>4.9</td><td>3.1</td><td>1.5</td><td>0.1</td><td>setosa</td></tr>\n",
              "\t<tr><td>5.4</td><td>3.7</td><td>1.5</td><td>0.2</td><td>setosa</td></tr>\n",
              "\t<tr><td>4.8</td><td>3.4</td><td>1.6</td><td>0.2</td><td>setosa</td></tr>\n",
              "\t<tr><td>4.8</td><td>3.0</td><td>1.4</td><td>0.1</td><td>setosa</td></tr>\n",
              "\t<tr><td>4.3</td><td>3.0</td><td>1.1</td><td>0.1</td><td>setosa</td></tr>\n",
              "\t<tr><td>5.8</td><td>4.0</td><td>1.2</td><td>0.2</td><td>setosa</td></tr>\n",
              "\t<tr><td>5.7</td><td>4.4</td><td>1.5</td><td>0.4</td><td>setosa</td></tr>\n",
              "\t<tr><td>5.4</td><td>3.9</td><td>1.3</td><td>0.4</td><td>setosa</td></tr>\n",
              "\t<tr><td>5.1</td><td>3.5</td><td>1.4</td><td>0.3</td><td>setosa</td></tr>\n",
              "\t<tr><td>5.7</td><td>3.8</td><td>1.7</td><td>0.3</td><td>setosa</td></tr>\n",
              "\t<tr><td>5.1</td><td>3.8</td><td>1.5</td><td>0.3</td><td>setosa</td></tr>\n",
              "\t<tr><td>5.4</td><td>3.4</td><td>1.7</td><td>0.2</td><td>setosa</td></tr>\n",
              "\t<tr><td>5.1</td><td>3.7</td><td>1.5</td><td>0.4</td><td>setosa</td></tr>\n",
              "\t<tr><td>4.6</td><td>3.6</td><td>1.0</td><td>0.2</td><td>setosa</td></tr>\n",
              "\t<tr><td>5.1</td><td>3.3</td><td>1.7</td><td>0.5</td><td>setosa</td></tr>\n",
              "\t<tr><td>4.8</td><td>3.4</td><td>1.9</td><td>0.2</td><td>setosa</td></tr>\n",
              "\t<tr><td>5.0</td><td>3.0</td><td>1.6</td><td>0.2</td><td>setosa</td></tr>\n",
              "\t<tr><td>5.0</td><td>3.4</td><td>1.6</td><td>0.4</td><td>setosa</td></tr>\n",
              "\t<tr><td>5.2</td><td>3.5</td><td>1.5</td><td>0.2</td><td>setosa</td></tr>\n",
              "\t<tr><td>5.2</td><td>3.4</td><td>1.4</td><td>0.2</td><td>setosa</td></tr>\n",
              "\t<tr><td>4.7</td><td>3.2</td><td>1.6</td><td>0.2</td><td>setosa</td></tr>\n",
              "\t<tr><td>⋮</td><td>⋮</td><td>⋮</td><td>⋮</td><td>⋮</td></tr>\n",
              "\t<tr><td>6.9</td><td>3.2</td><td>5.7</td><td>2.3</td><td>virginica</td></tr>\n",
              "\t<tr><td>5.6</td><td>2.8</td><td>4.9</td><td>2.0</td><td>virginica</td></tr>\n",
              "\t<tr><td>7.7</td><td>2.8</td><td>6.7</td><td>2.0</td><td>virginica</td></tr>\n",
              "\t<tr><td>6.3</td><td>2.7</td><td>4.9</td><td>1.8</td><td>virginica</td></tr>\n",
              "\t<tr><td>6.7</td><td>3.3</td><td>5.7</td><td>2.1</td><td>virginica</td></tr>\n",
              "\t<tr><td>7.2</td><td>3.2</td><td>6.0</td><td>1.8</td><td>virginica</td></tr>\n",
              "\t<tr><td>6.2</td><td>2.8</td><td>4.8</td><td>1.8</td><td>virginica</td></tr>\n",
              "\t<tr><td>6.1</td><td>3.0</td><td>4.9</td><td>1.8</td><td>virginica</td></tr>\n",
              "\t<tr><td>6.4</td><td>2.8</td><td>5.6</td><td>2.1</td><td>virginica</td></tr>\n",
              "\t<tr><td>7.2</td><td>3.0</td><td>5.8</td><td>1.6</td><td>virginica</td></tr>\n",
              "\t<tr><td>7.4</td><td>2.8</td><td>6.1</td><td>1.9</td><td>virginica</td></tr>\n",
              "\t<tr><td>7.9</td><td>3.8</td><td>6.4</td><td>2.0</td><td>virginica</td></tr>\n",
              "\t<tr><td>6.4</td><td>2.8</td><td>5.6</td><td>2.2</td><td>virginica</td></tr>\n",
              "\t<tr><td>6.3</td><td>2.8</td><td>5.1</td><td>1.5</td><td>virginica</td></tr>\n",
              "\t<tr><td>6.1</td><td>2.6</td><td>5.6</td><td>1.4</td><td>virginica</td></tr>\n",
              "\t<tr><td>7.7</td><td>3.0</td><td>6.1</td><td>2.3</td><td>virginica</td></tr>\n",
              "\t<tr><td>6.3</td><td>3.4</td><td>5.6</td><td>2.4</td><td>virginica</td></tr>\n",
              "\t<tr><td>6.4</td><td>3.1</td><td>5.5</td><td>1.8</td><td>virginica</td></tr>\n",
              "\t<tr><td>6.0</td><td>3.0</td><td>4.8</td><td>1.8</td><td>virginica</td></tr>\n",
              "\t<tr><td>6.9</td><td>3.1</td><td>5.4</td><td>2.1</td><td>virginica</td></tr>\n",
              "\t<tr><td>6.7</td><td>3.1</td><td>5.6</td><td>2.4</td><td>virginica</td></tr>\n",
              "\t<tr><td>6.9</td><td>3.1</td><td>5.1</td><td>2.3</td><td>virginica</td></tr>\n",
              "\t<tr><td>5.8</td><td>2.7</td><td>5.1</td><td>1.9</td><td>virginica</td></tr>\n",
              "\t<tr><td>6.8</td><td>3.2</td><td>5.9</td><td>2.3</td><td>virginica</td></tr>\n",
              "\t<tr><td>6.7</td><td>3.3</td><td>5.7</td><td>2.5</td><td>virginica</td></tr>\n",
              "\t<tr><td>6.7</td><td>3.0</td><td>5.2</td><td>2.3</td><td>virginica</td></tr>\n",
              "\t<tr><td>6.3</td><td>2.5</td><td>5.0</td><td>1.9</td><td>virginica</td></tr>\n",
              "\t<tr><td>6.5</td><td>3.0</td><td>5.2</td><td>2.0</td><td>virginica</td></tr>\n",
              "\t<tr><td>6.2</td><td>3.4</td><td>5.4</td><td>2.3</td><td>virginica</td></tr>\n",
              "\t<tr><td>5.9</td><td>3.0</td><td>5.1</td><td>1.8</td><td>virginica</td></tr>\n",
              "</tbody>\n",
              "</table>\n"
            ],
            "text/markdown": "\nA data.frame: 150 × 5\n\n| Sepal.Length &lt;dbl&gt; | Sepal.Width &lt;dbl&gt; | Petal.Length &lt;dbl&gt; | Petal.Width &lt;dbl&gt; | Species &lt;fct&gt; |\n|---|---|---|---|---|\n| 5.1 | 3.5 | 1.4 | 0.2 | setosa |\n| 4.9 | 3.0 | 1.4 | 0.2 | setosa |\n| 4.7 | 3.2 | 1.3 | 0.2 | setosa |\n| 4.6 | 3.1 | 1.5 | 0.2 | setosa |\n| 5.0 | 3.6 | 1.4 | 0.2 | setosa |\n| 5.4 | 3.9 | 1.7 | 0.4 | setosa |\n| 4.6 | 3.4 | 1.4 | 0.3 | setosa |\n| 5.0 | 3.4 | 1.5 | 0.2 | setosa |\n| 4.4 | 2.9 | 1.4 | 0.2 | setosa |\n| 4.9 | 3.1 | 1.5 | 0.1 | setosa |\n| 5.4 | 3.7 | 1.5 | 0.2 | setosa |\n| 4.8 | 3.4 | 1.6 | 0.2 | setosa |\n| 4.8 | 3.0 | 1.4 | 0.1 | setosa |\n| 4.3 | 3.0 | 1.1 | 0.1 | setosa |\n| 5.8 | 4.0 | 1.2 | 0.2 | setosa |\n| 5.7 | 4.4 | 1.5 | 0.4 | setosa |\n| 5.4 | 3.9 | 1.3 | 0.4 | setosa |\n| 5.1 | 3.5 | 1.4 | 0.3 | setosa |\n| 5.7 | 3.8 | 1.7 | 0.3 | setosa |\n| 5.1 | 3.8 | 1.5 | 0.3 | setosa |\n| 5.4 | 3.4 | 1.7 | 0.2 | setosa |\n| 5.1 | 3.7 | 1.5 | 0.4 | setosa |\n| 4.6 | 3.6 | 1.0 | 0.2 | setosa |\n| 5.1 | 3.3 | 1.7 | 0.5 | setosa |\n| 4.8 | 3.4 | 1.9 | 0.2 | setosa |\n| 5.0 | 3.0 | 1.6 | 0.2 | setosa |\n| 5.0 | 3.4 | 1.6 | 0.4 | setosa |\n| 5.2 | 3.5 | 1.5 | 0.2 | setosa |\n| 5.2 | 3.4 | 1.4 | 0.2 | setosa |\n| 4.7 | 3.2 | 1.6 | 0.2 | setosa |\n| ⋮ | ⋮ | ⋮ | ⋮ | ⋮ |\n| 6.9 | 3.2 | 5.7 | 2.3 | virginica |\n| 5.6 | 2.8 | 4.9 | 2.0 | virginica |\n| 7.7 | 2.8 | 6.7 | 2.0 | virginica |\n| 6.3 | 2.7 | 4.9 | 1.8 | virginica |\n| 6.7 | 3.3 | 5.7 | 2.1 | virginica |\n| 7.2 | 3.2 | 6.0 | 1.8 | virginica |\n| 6.2 | 2.8 | 4.8 | 1.8 | virginica |\n| 6.1 | 3.0 | 4.9 | 1.8 | virginica |\n| 6.4 | 2.8 | 5.6 | 2.1 | virginica |\n| 7.2 | 3.0 | 5.8 | 1.6 | virginica |\n| 7.4 | 2.8 | 6.1 | 1.9 | virginica |\n| 7.9 | 3.8 | 6.4 | 2.0 | virginica |\n| 6.4 | 2.8 | 5.6 | 2.2 | virginica |\n| 6.3 | 2.8 | 5.1 | 1.5 | virginica |\n| 6.1 | 2.6 | 5.6 | 1.4 | virginica |\n| 7.7 | 3.0 | 6.1 | 2.3 | virginica |\n| 6.3 | 3.4 | 5.6 | 2.4 | virginica |\n| 6.4 | 3.1 | 5.5 | 1.8 | virginica |\n| 6.0 | 3.0 | 4.8 | 1.8 | virginica |\n| 6.9 | 3.1 | 5.4 | 2.1 | virginica |\n| 6.7 | 3.1 | 5.6 | 2.4 | virginica |\n| 6.9 | 3.1 | 5.1 | 2.3 | virginica |\n| 5.8 | 2.7 | 5.1 | 1.9 | virginica |\n| 6.8 | 3.2 | 5.9 | 2.3 | virginica |\n| 6.7 | 3.3 | 5.7 | 2.5 | virginica |\n| 6.7 | 3.0 | 5.2 | 2.3 | virginica |\n| 6.3 | 2.5 | 5.0 | 1.9 | virginica |\n| 6.5 | 3.0 | 5.2 | 2.0 | virginica |\n| 6.2 | 3.4 | 5.4 | 2.3 | virginica |\n| 5.9 | 3.0 | 5.1 | 1.8 | virginica |\n\n",
            "text/latex": "A data.frame: 150 × 5\n\\begin{tabular}{lllll}\n Sepal.Length & Sepal.Width & Petal.Length & Petal.Width & Species\\\\\n <dbl> & <dbl> & <dbl> & <dbl> & <fct>\\\\\n\\hline\n\t 5.1 & 3.5 & 1.4 & 0.2 & setosa\\\\\n\t 4.9 & 3.0 & 1.4 & 0.2 & setosa\\\\\n\t 4.7 & 3.2 & 1.3 & 0.2 & setosa\\\\\n\t 4.6 & 3.1 & 1.5 & 0.2 & setosa\\\\\n\t 5.0 & 3.6 & 1.4 & 0.2 & setosa\\\\\n\t 5.4 & 3.9 & 1.7 & 0.4 & setosa\\\\\n\t 4.6 & 3.4 & 1.4 & 0.3 & setosa\\\\\n\t 5.0 & 3.4 & 1.5 & 0.2 & setosa\\\\\n\t 4.4 & 2.9 & 1.4 & 0.2 & setosa\\\\\n\t 4.9 & 3.1 & 1.5 & 0.1 & setosa\\\\\n\t 5.4 & 3.7 & 1.5 & 0.2 & setosa\\\\\n\t 4.8 & 3.4 & 1.6 & 0.2 & setosa\\\\\n\t 4.8 & 3.0 & 1.4 & 0.1 & setosa\\\\\n\t 4.3 & 3.0 & 1.1 & 0.1 & setosa\\\\\n\t 5.8 & 4.0 & 1.2 & 0.2 & setosa\\\\\n\t 5.7 & 4.4 & 1.5 & 0.4 & setosa\\\\\n\t 5.4 & 3.9 & 1.3 & 0.4 & setosa\\\\\n\t 5.1 & 3.5 & 1.4 & 0.3 & setosa\\\\\n\t 5.7 & 3.8 & 1.7 & 0.3 & setosa\\\\\n\t 5.1 & 3.8 & 1.5 & 0.3 & setosa\\\\\n\t 5.4 & 3.4 & 1.7 & 0.2 & setosa\\\\\n\t 5.1 & 3.7 & 1.5 & 0.4 & setosa\\\\\n\t 4.6 & 3.6 & 1.0 & 0.2 & setosa\\\\\n\t 5.1 & 3.3 & 1.7 & 0.5 & setosa\\\\\n\t 4.8 & 3.4 & 1.9 & 0.2 & setosa\\\\\n\t 5.0 & 3.0 & 1.6 & 0.2 & setosa\\\\\n\t 5.0 & 3.4 & 1.6 & 0.4 & setosa\\\\\n\t 5.2 & 3.5 & 1.5 & 0.2 & setosa\\\\\n\t 5.2 & 3.4 & 1.4 & 0.2 & setosa\\\\\n\t 4.7 & 3.2 & 1.6 & 0.2 & setosa\\\\\n\t ⋮ & ⋮ & ⋮ & ⋮ & ⋮\\\\\n\t 6.9 & 3.2 & 5.7 & 2.3 & virginica\\\\\n\t 5.6 & 2.8 & 4.9 & 2.0 & virginica\\\\\n\t 7.7 & 2.8 & 6.7 & 2.0 & virginica\\\\\n\t 6.3 & 2.7 & 4.9 & 1.8 & virginica\\\\\n\t 6.7 & 3.3 & 5.7 & 2.1 & virginica\\\\\n\t 7.2 & 3.2 & 6.0 & 1.8 & virginica\\\\\n\t 6.2 & 2.8 & 4.8 & 1.8 & virginica\\\\\n\t 6.1 & 3.0 & 4.9 & 1.8 & virginica\\\\\n\t 6.4 & 2.8 & 5.6 & 2.1 & virginica\\\\\n\t 7.2 & 3.0 & 5.8 & 1.6 & virginica\\\\\n\t 7.4 & 2.8 & 6.1 & 1.9 & virginica\\\\\n\t 7.9 & 3.8 & 6.4 & 2.0 & virginica\\\\\n\t 6.4 & 2.8 & 5.6 & 2.2 & virginica\\\\\n\t 6.3 & 2.8 & 5.1 & 1.5 & virginica\\\\\n\t 6.1 & 2.6 & 5.6 & 1.4 & virginica\\\\\n\t 7.7 & 3.0 & 6.1 & 2.3 & virginica\\\\\n\t 6.3 & 3.4 & 5.6 & 2.4 & virginica\\\\\n\t 6.4 & 3.1 & 5.5 & 1.8 & virginica\\\\\n\t 6.0 & 3.0 & 4.8 & 1.8 & virginica\\\\\n\t 6.9 & 3.1 & 5.4 & 2.1 & virginica\\\\\n\t 6.7 & 3.1 & 5.6 & 2.4 & virginica\\\\\n\t 6.9 & 3.1 & 5.1 & 2.3 & virginica\\\\\n\t 5.8 & 2.7 & 5.1 & 1.9 & virginica\\\\\n\t 6.8 & 3.2 & 5.9 & 2.3 & virginica\\\\\n\t 6.7 & 3.3 & 5.7 & 2.5 & virginica\\\\\n\t 6.7 & 3.0 & 5.2 & 2.3 & virginica\\\\\n\t 6.3 & 2.5 & 5.0 & 1.9 & virginica\\\\\n\t 6.5 & 3.0 & 5.2 & 2.0 & virginica\\\\\n\t 6.2 & 3.4 & 5.4 & 2.3 & virginica\\\\\n\t 5.9 & 3.0 & 5.1 & 1.8 & virginica\\\\\n\\end{tabular}\n",
            "text/plain": [
              "    Sepal.Length Sepal.Width Petal.Length Petal.Width Species  \n",
              "1   5.1          3.5         1.4          0.2         setosa   \n",
              "2   4.9          3.0         1.4          0.2         setosa   \n",
              "3   4.7          3.2         1.3          0.2         setosa   \n",
              "4   4.6          3.1         1.5          0.2         setosa   \n",
              "5   5.0          3.6         1.4          0.2         setosa   \n",
              "6   5.4          3.9         1.7          0.4         setosa   \n",
              "7   4.6          3.4         1.4          0.3         setosa   \n",
              "8   5.0          3.4         1.5          0.2         setosa   \n",
              "9   4.4          2.9         1.4          0.2         setosa   \n",
              "10  4.9          3.1         1.5          0.1         setosa   \n",
              "11  5.4          3.7         1.5          0.2         setosa   \n",
              "12  4.8          3.4         1.6          0.2         setosa   \n",
              "13  4.8          3.0         1.4          0.1         setosa   \n",
              "14  4.3          3.0         1.1          0.1         setosa   \n",
              "15  5.8          4.0         1.2          0.2         setosa   \n",
              "16  5.7          4.4         1.5          0.4         setosa   \n",
              "17  5.4          3.9         1.3          0.4         setosa   \n",
              "18  5.1          3.5         1.4          0.3         setosa   \n",
              "19  5.7          3.8         1.7          0.3         setosa   \n",
              "20  5.1          3.8         1.5          0.3         setosa   \n",
              "21  5.4          3.4         1.7          0.2         setosa   \n",
              "22  5.1          3.7         1.5          0.4         setosa   \n",
              "23  4.6          3.6         1.0          0.2         setosa   \n",
              "24  5.1          3.3         1.7          0.5         setosa   \n",
              "25  4.8          3.4         1.9          0.2         setosa   \n",
              "26  5.0          3.0         1.6          0.2         setosa   \n",
              "27  5.0          3.4         1.6          0.4         setosa   \n",
              "28  5.2          3.5         1.5          0.2         setosa   \n",
              "29  5.2          3.4         1.4          0.2         setosa   \n",
              "30  4.7          3.2         1.6          0.2         setosa   \n",
              "⋮   ⋮            ⋮           ⋮            ⋮           ⋮        \n",
              "121 6.9          3.2         5.7          2.3         virginica\n",
              "122 5.6          2.8         4.9          2.0         virginica\n",
              "123 7.7          2.8         6.7          2.0         virginica\n",
              "124 6.3          2.7         4.9          1.8         virginica\n",
              "125 6.7          3.3         5.7          2.1         virginica\n",
              "126 7.2          3.2         6.0          1.8         virginica\n",
              "127 6.2          2.8         4.8          1.8         virginica\n",
              "128 6.1          3.0         4.9          1.8         virginica\n",
              "129 6.4          2.8         5.6          2.1         virginica\n",
              "130 7.2          3.0         5.8          1.6         virginica\n",
              "131 7.4          2.8         6.1          1.9         virginica\n",
              "132 7.9          3.8         6.4          2.0         virginica\n",
              "133 6.4          2.8         5.6          2.2         virginica\n",
              "134 6.3          2.8         5.1          1.5         virginica\n",
              "135 6.1          2.6         5.6          1.4         virginica\n",
              "136 7.7          3.0         6.1          2.3         virginica\n",
              "137 6.3          3.4         5.6          2.4         virginica\n",
              "138 6.4          3.1         5.5          1.8         virginica\n",
              "139 6.0          3.0         4.8          1.8         virginica\n",
              "140 6.9          3.1         5.4          2.1         virginica\n",
              "141 6.7          3.1         5.6          2.4         virginica\n",
              "142 6.9          3.1         5.1          2.3         virginica\n",
              "143 5.8          2.7         5.1          1.9         virginica\n",
              "144 6.8          3.2         5.9          2.3         virginica\n",
              "145 6.7          3.3         5.7          2.5         virginica\n",
              "146 6.7          3.0         5.2          2.3         virginica\n",
              "147 6.3          2.5         5.0          1.9         virginica\n",
              "148 6.5          3.0         5.2          2.0         virginica\n",
              "149 6.2          3.4         5.4          2.3         virginica\n",
              "150 5.9          3.0         5.1          1.8         virginica"
            ]
          },
          "metadata": {}
        }
      ]
    },
    {
      "cell_type": "code",
      "source": [
        "#dimensão do conjunto de dados\n",
        "dim(iris)"
      ],
      "metadata": {
        "colab": {
          "base_uri": "https://localhost:8080/",
          "height": 34
        },
        "id": "AeGf3sQUaoC8",
        "outputId": "bbf1d340-00af-4d66-ac91-5469c4fd49ca"
      },
      "execution_count": 3,
      "outputs": [
        {
          "output_type": "display_data",
          "data": {
            "text/html": [
              "<style>\n",
              ".list-inline {list-style: none; margin:0; padding: 0}\n",
              ".list-inline>li {display: inline-block}\n",
              ".list-inline>li:not(:last-child)::after {content: \"\\00b7\"; padding: 0 .5ex}\n",
              "</style>\n",
              "<ol class=list-inline><li>150</li><li>5</li></ol>\n"
            ],
            "text/markdown": "1. 150\n2. 5\n\n\n",
            "text/latex": "\\begin{enumerate*}\n\\item 150\n\\item 5\n\\end{enumerate*}\n",
            "text/plain": [
              "[1] 150   5"
            ]
          },
          "metadata": {}
        }
      ]
    },
    {
      "cell_type": "code",
      "source": [
        "#exemplo de amostra simples com valores 0 e 1 de 150 posições com reposição e probabilidade de 50% de ser 0 e 50% de ser 1\n",
        "amostrairis = sample(c(0,1), 150, replace = TRUE, prob = c(0.5,0.5))\n",
        "amostrairis"
      ],
      "metadata": {
        "colab": {
          "base_uri": "https://localhost:8080/",
          "height": 69
        },
        "id": "7J-McU8RapQY",
        "outputId": "449456e0-fc2c-4c91-a622-1b91932e4232"
      },
      "execution_count": 4,
      "outputs": [
        {
          "output_type": "display_data",
          "data": {
            "text/html": [
              "<style>\n",
              ".list-inline {list-style: none; margin:0; padding: 0}\n",
              ".list-inline>li {display: inline-block}\n",
              ".list-inline>li:not(:last-child)::after {content: \"\\00b7\"; padding: 0 .5ex}\n",
              "</style>\n",
              "<ol class=list-inline><li>1</li><li>1</li><li>1</li><li>1</li><li>0</li><li>1</li><li>1</li><li>1</li><li>1</li><li>0</li><li>1</li><li>0</li><li>1</li><li>0</li><li>1</li><li>1</li><li>0</li><li>1</li><li>0</li><li>1</li><li>0</li><li>1</li><li>1</li><li>0</li><li>0</li><li>0</li><li>1</li><li>1</li><li>1</li><li>0</li><li>0</li><li>1</li><li>1</li><li>1</li><li>1</li><li>0</li><li>1</li><li>1</li><li>0</li><li>0</li><li>1</li><li>1</li><li>0</li><li>0</li><li>1</li><li>1</li><li>1</li><li>1</li><li>1</li><li>1</li><li>0</li><li>1</li><li>0</li><li>1</li><li>0</li><li>0</li><li>0</li><li>1</li><li>1</li><li>1</li><li>1</li><li>1</li><li>1</li><li>1</li><li>1</li><li>0</li><li>0</li><li>1</li><li>1</li><li>0</li><li>0</li><li>1</li><li>0</li><li>0</li><li>0</li><li>1</li><li>0</li><li>1</li><li>1</li><li>1</li><li>0</li><li>1</li><li>0</li><li>1</li><li>1</li><li>1</li><li>1</li><li>1</li><li>1</li><li>1</li><li>1</li><li>0</li><li>0</li><li>1</li><li>1</li><li>1</li><li>0</li><li>1</li><li>0</li><li>1</li><li>0</li><li>1</li><li>1</li><li>1</li><li>0</li><li>0</li><li>0</li><li>0</li><li>0</li><li>0</li><li>1</li><li>1</li><li>0</li><li>1</li><li>0</li><li>0</li><li>0</li><li>1</li><li>1</li><li>1</li><li>0</li><li>1</li><li>1</li><li>1</li><li>1</li><li>1</li><li>1</li><li>1</li><li>0</li><li>0</li><li>0</li><li>0</li><li>1</li><li>0</li><li>0</li><li>0</li><li>1</li><li>0</li><li>0</li><li>1</li><li>1</li><li>0</li><li>1</li><li>0</li><li>0</li><li>1</li><li>0</li><li>0</li><li>1</li><li>1</li></ol>\n"
            ],
            "text/markdown": "1. 1\n2. 1\n3. 1\n4. 1\n5. 0\n6. 1\n7. 1\n8. 1\n9. 1\n10. 0\n11. 1\n12. 0\n13. 1\n14. 0\n15. 1\n16. 1\n17. 0\n18. 1\n19. 0\n20. 1\n21. 0\n22. 1\n23. 1\n24. 0\n25. 0\n26. 0\n27. 1\n28. 1\n29. 1\n30. 0\n31. 0\n32. 1\n33. 1\n34. 1\n35. 1\n36. 0\n37. 1\n38. 1\n39. 0\n40. 0\n41. 1\n42. 1\n43. 0\n44. 0\n45. 1\n46. 1\n47. 1\n48. 1\n49. 1\n50. 1\n51. 0\n52. 1\n53. 0\n54. 1\n55. 0\n56. 0\n57. 0\n58. 1\n59. 1\n60. 1\n61. 1\n62. 1\n63. 1\n64. 1\n65. 1\n66. 0\n67. 0\n68. 1\n69. 1\n70. 0\n71. 0\n72. 1\n73. 0\n74. 0\n75. 0\n76. 1\n77. 0\n78. 1\n79. 1\n80. 1\n81. 0\n82. 1\n83. 0\n84. 1\n85. 1\n86. 1\n87. 1\n88. 1\n89. 1\n90. 1\n91. 1\n92. 0\n93. 0\n94. 1\n95. 1\n96. 1\n97. 0\n98. 1\n99. 0\n100. 1\n101. 0\n102. 1\n103. 1\n104. 1\n105. 0\n106. 0\n107. 0\n108. 0\n109. 0\n110. 0\n111. 1\n112. 1\n113. 0\n114. 1\n115. 0\n116. 0\n117. 0\n118. 1\n119. 1\n120. 1\n121. 0\n122. 1\n123. 1\n124. 1\n125. 1\n126. 1\n127. 1\n128. 1\n129. 0\n130. 0\n131. 0\n132. 0\n133. 1\n134. 0\n135. 0\n136. 0\n137. 1\n138. 0\n139. 0\n140. 1\n141. 1\n142. 0\n143. 1\n144. 0\n145. 0\n146. 1\n147. 0\n148. 0\n149. 1\n150. 1\n\n\n",
            "text/latex": "\\begin{enumerate*}\n\\item 1\n\\item 1\n\\item 1\n\\item 1\n\\item 0\n\\item 1\n\\item 1\n\\item 1\n\\item 1\n\\item 0\n\\item 1\n\\item 0\n\\item 1\n\\item 0\n\\item 1\n\\item 1\n\\item 0\n\\item 1\n\\item 0\n\\item 1\n\\item 0\n\\item 1\n\\item 1\n\\item 0\n\\item 0\n\\item 0\n\\item 1\n\\item 1\n\\item 1\n\\item 0\n\\item 0\n\\item 1\n\\item 1\n\\item 1\n\\item 1\n\\item 0\n\\item 1\n\\item 1\n\\item 0\n\\item 0\n\\item 1\n\\item 1\n\\item 0\n\\item 0\n\\item 1\n\\item 1\n\\item 1\n\\item 1\n\\item 1\n\\item 1\n\\item 0\n\\item 1\n\\item 0\n\\item 1\n\\item 0\n\\item 0\n\\item 0\n\\item 1\n\\item 1\n\\item 1\n\\item 1\n\\item 1\n\\item 1\n\\item 1\n\\item 1\n\\item 0\n\\item 0\n\\item 1\n\\item 1\n\\item 0\n\\item 0\n\\item 1\n\\item 0\n\\item 0\n\\item 0\n\\item 1\n\\item 0\n\\item 1\n\\item 1\n\\item 1\n\\item 0\n\\item 1\n\\item 0\n\\item 1\n\\item 1\n\\item 1\n\\item 1\n\\item 1\n\\item 1\n\\item 1\n\\item 1\n\\item 0\n\\item 0\n\\item 1\n\\item 1\n\\item 1\n\\item 0\n\\item 1\n\\item 0\n\\item 1\n\\item 0\n\\item 1\n\\item 1\n\\item 1\n\\item 0\n\\item 0\n\\item 0\n\\item 0\n\\item 0\n\\item 0\n\\item 1\n\\item 1\n\\item 0\n\\item 1\n\\item 0\n\\item 0\n\\item 0\n\\item 1\n\\item 1\n\\item 1\n\\item 0\n\\item 1\n\\item 1\n\\item 1\n\\item 1\n\\item 1\n\\item 1\n\\item 1\n\\item 0\n\\item 0\n\\item 0\n\\item 0\n\\item 1\n\\item 0\n\\item 0\n\\item 0\n\\item 1\n\\item 0\n\\item 0\n\\item 1\n\\item 1\n\\item 0\n\\item 1\n\\item 0\n\\item 0\n\\item 1\n\\item 0\n\\item 0\n\\item 1\n\\item 1\n\\end{enumerate*}\n",
            "text/plain": [
              "  [1] 1 1 1 1 0 1 1 1 1 0 1 0 1 0 1 1 0 1 0 1 0 1 1 0 0 0 1 1 1 0 0 1 1 1 1 0 1\n",
              " [38] 1 0 0 1 1 0 0 1 1 1 1 1 1 0 1 0 1 0 0 0 1 1 1 1 1 1 1 1 0 0 1 1 0 0 1 0 0\n",
              " [75] 0 1 0 1 1 1 0 1 0 1 1 1 1 1 1 1 1 0 0 1 1 1 0 1 0 1 0 1 1 1 0 0 0 0 0 0 1\n",
              "[112] 1 0 1 0 0 0 1 1 1 0 1 1 1 1 1 1 1 0 0 0 0 1 0 0 0 1 0 0 1 1 0 1 0 0 1 0 0\n",
              "[149] 1 1"
            ]
          },
          "metadata": {}
        }
      ]
    },
    {
      "cell_type": "code",
      "source": [
        "#quantidade de posições da amostra = 1\n",
        "length(amostrairis[amostrairis==1])"
      ],
      "metadata": {
        "colab": {
          "base_uri": "https://localhost:8080/",
          "height": 34
        },
        "id": "76inxfLobA5n",
        "outputId": "a5301883-6a36-4f39-cb2f-399adb0e9b7f"
      },
      "execution_count": 6,
      "outputs": [
        {
          "output_type": "display_data",
          "data": {
            "text/html": [
              "88"
            ],
            "text/markdown": "88",
            "text/latex": "88",
            "text/plain": [
              "[1] 88"
            ]
          },
          "metadata": {}
        }
      ]
    },
    {
      "cell_type": "code",
      "source": [
        "#quantidade de posições da amostra = 0\n",
        "length(amostrairis[amostrairis==0])"
      ],
      "metadata": {
        "colab": {
          "base_uri": "https://localhost:8080/",
          "height": 34
        },
        "id": "5O6nOm6RbR7j",
        "outputId": "6143ad87-a0e0-42e6-b6b5-c7ea0c5a5a15"
      },
      "execution_count": 7,
      "outputs": [
        {
          "output_type": "display_data",
          "data": {
            "text/html": [
              "62"
            ],
            "text/markdown": "62",
            "text/latex": "62",
            "text/plain": [
              "[1] 62"
            ]
          },
          "metadata": {}
        }
      ]
    },
    {
      "cell_type": "code",
      "source": [
        "'Obs: Note que o fato da probabilidade ter sido definida como 50% para cada elemento não significa que,\n",
        "necessariamente, os elementos terão a mesma quantidade na amostra."
      ],
      "metadata": {
        "id": "yu1d1MOBbbv0"
      },
      "execution_count": 8,
      "outputs": []
    },
    {
      "cell_type": "markdown",
      "source": [
        "# Amostra Estratificada"
      ],
      "metadata": {
        "id": "P4Syc0ffcHgr"
      }
    },
    {
      "cell_type": "code",
      "source": [
        "#resumo estatístico do conjunto de dados iris\n",
        "summary (iris)"
      ],
      "metadata": {
        "colab": {
          "base_uri": "https://localhost:8080/",
          "height": 260
        },
        "id": "vo-T3p9Cbsni",
        "outputId": "6b1afd94-791f-4900-9ab9-af9ee8cffceb"
      },
      "execution_count": 9,
      "outputs": [
        {
          "output_type": "display_data",
          "data": {
            "text/plain": [
              "  Sepal.Length    Sepal.Width     Petal.Length    Petal.Width   \n",
              " Min.   :4.300   Min.   :2.000   Min.   :1.000   Min.   :0.100  \n",
              " 1st Qu.:5.100   1st Qu.:2.800   1st Qu.:1.600   1st Qu.:0.300  \n",
              " Median :5.800   Median :3.000   Median :4.350   Median :1.300  \n",
              " Mean   :5.843   Mean   :3.057   Mean   :3.758   Mean   :1.199  \n",
              " 3rd Qu.:6.400   3rd Qu.:3.300   3rd Qu.:5.100   3rd Qu.:1.800  \n",
              " Max.   :7.900   Max.   :4.400   Max.   :6.900   Max.   :2.500  \n",
              "       Species  \n",
              " setosa    :50  \n",
              " versicolor:50  \n",
              " virginica :50  \n",
              "                \n",
              "                \n",
              "                "
            ]
          },
          "metadata": {}
        }
      ]
    },
    {
      "cell_type": "code",
      "source": [
        "'Conforme o resumo, temos 50 espécies de cada, queremos uma amostra de metade de cada espécie."
      ],
      "metadata": {
        "id": "ImGR_FHTdkya"
      },
      "execution_count": null,
      "outputs": []
    },
    {
      "cell_type": "code",
      "source": [
        "#instalando a biblioteca Sampling\n",
        "install.packages(\"sampling\")"
      ],
      "metadata": {
        "colab": {
          "base_uri": "https://localhost:8080/"
        },
        "id": "jJcMQTGTcPXI",
        "outputId": "9890f6e0-7047-4f6b-d206-132c8095c687"
      },
      "execution_count": 10,
      "outputs": [
        {
          "output_type": "stream",
          "name": "stderr",
          "text": [
            "Installing package into ‘/usr/local/lib/R/site-library’\n",
            "(as ‘lib’ is unspecified)\n",
            "\n",
            "also installing the dependency ‘lpSolve’\n",
            "\n",
            "\n"
          ]
        }
      ]
    },
    {
      "cell_type": "code",
      "source": [
        "#carregando a biblioteca após instalação\n",
        "library(sampling)"
      ],
      "metadata": {
        "id": "LpGN8gTYcx54"
      },
      "execution_count": 12,
      "outputs": []
    },
    {
      "cell_type": "code",
      "source": [
        "#obtendo a amostra estratificada das espécies contendo 25 valores de cada espécie usando o método padrão\n",
        "amostraestratificada = strata(iris, c(\"Species\"), size=c(25,25,25), method = \"srswor\")\n",
        "amostraestratificada"
      ],
      "metadata": {
        "colab": {
          "base_uri": "https://localhost:8080/",
          "height": 1000
        },
        "id": "EoeXVzVyc2Ko",
        "outputId": "7e1c9fa6-8483-40f5-e668-38ed0bf8aa57"
      },
      "execution_count": 14,
      "outputs": [
        {
          "output_type": "display_data",
          "data": {
            "text/html": [
              "<table class=\"dataframe\">\n",
              "<caption>A data.frame: 75 × 4</caption>\n",
              "<thead>\n",
              "\t<tr><th></th><th scope=col>Species</th><th scope=col>ID_unit</th><th scope=col>Prob</th><th scope=col>Stratum</th></tr>\n",
              "\t<tr><th></th><th scope=col>&lt;fct&gt;</th><th scope=col>&lt;int&gt;</th><th scope=col>&lt;dbl&gt;</th><th scope=col>&lt;int&gt;</th></tr>\n",
              "</thead>\n",
              "<tbody>\n",
              "\t<tr><th scope=row>2</th><td>setosa    </td><td> 2</td><td>0.5</td><td>1</td></tr>\n",
              "\t<tr><th scope=row>4</th><td>setosa    </td><td> 4</td><td>0.5</td><td>1</td></tr>\n",
              "\t<tr><th scope=row>6</th><td>setosa    </td><td> 6</td><td>0.5</td><td>1</td></tr>\n",
              "\t<tr><th scope=row>8</th><td>setosa    </td><td> 8</td><td>0.5</td><td>1</td></tr>\n",
              "\t<tr><th scope=row>10</th><td>setosa    </td><td>10</td><td>0.5</td><td>1</td></tr>\n",
              "\t<tr><th scope=row>11</th><td>setosa    </td><td>11</td><td>0.5</td><td>1</td></tr>\n",
              "\t<tr><th scope=row>12</th><td>setosa    </td><td>12</td><td>0.5</td><td>1</td></tr>\n",
              "\t<tr><th scope=row>13</th><td>setosa    </td><td>13</td><td>0.5</td><td>1</td></tr>\n",
              "\t<tr><th scope=row>14</th><td>setosa    </td><td>14</td><td>0.5</td><td>1</td></tr>\n",
              "\t<tr><th scope=row>17</th><td>setosa    </td><td>17</td><td>0.5</td><td>1</td></tr>\n",
              "\t<tr><th scope=row>24</th><td>setosa    </td><td>24</td><td>0.5</td><td>1</td></tr>\n",
              "\t<tr><th scope=row>27</th><td>setosa    </td><td>27</td><td>0.5</td><td>1</td></tr>\n",
              "\t<tr><th scope=row>29</th><td>setosa    </td><td>29</td><td>0.5</td><td>1</td></tr>\n",
              "\t<tr><th scope=row>30</th><td>setosa    </td><td>30</td><td>0.5</td><td>1</td></tr>\n",
              "\t<tr><th scope=row>33</th><td>setosa    </td><td>33</td><td>0.5</td><td>1</td></tr>\n",
              "\t<tr><th scope=row>34</th><td>setosa    </td><td>34</td><td>0.5</td><td>1</td></tr>\n",
              "\t<tr><th scope=row>36</th><td>setosa    </td><td>36</td><td>0.5</td><td>1</td></tr>\n",
              "\t<tr><th scope=row>38</th><td>setosa    </td><td>38</td><td>0.5</td><td>1</td></tr>\n",
              "\t<tr><th scope=row>40</th><td>setosa    </td><td>40</td><td>0.5</td><td>1</td></tr>\n",
              "\t<tr><th scope=row>42</th><td>setosa    </td><td>42</td><td>0.5</td><td>1</td></tr>\n",
              "\t<tr><th scope=row>46</th><td>setosa    </td><td>46</td><td>0.5</td><td>1</td></tr>\n",
              "\t<tr><th scope=row>47</th><td>setosa    </td><td>47</td><td>0.5</td><td>1</td></tr>\n",
              "\t<tr><th scope=row>48</th><td>setosa    </td><td>48</td><td>0.5</td><td>1</td></tr>\n",
              "\t<tr><th scope=row>49</th><td>setosa    </td><td>49</td><td>0.5</td><td>1</td></tr>\n",
              "\t<tr><th scope=row>50</th><td>setosa    </td><td>50</td><td>0.5</td><td>1</td></tr>\n",
              "\t<tr><th scope=row>51</th><td>versicolor</td><td>51</td><td>0.5</td><td>2</td></tr>\n",
              "\t<tr><th scope=row>52</th><td>versicolor</td><td>52</td><td>0.5</td><td>2</td></tr>\n",
              "\t<tr><th scope=row>54</th><td>versicolor</td><td>54</td><td>0.5</td><td>2</td></tr>\n",
              "\t<tr><th scope=row>55</th><td>versicolor</td><td>55</td><td>0.5</td><td>2</td></tr>\n",
              "\t<tr><th scope=row>56</th><td>versicolor</td><td>56</td><td>0.5</td><td>2</td></tr>\n",
              "\t<tr><th scope=row>⋮</th><td>⋮</td><td>⋮</td><td>⋮</td><td>⋮</td></tr>\n",
              "\t<tr><th scope=row>89</th><td>versicolor</td><td> 89</td><td>0.5</td><td>2</td></tr>\n",
              "\t<tr><th scope=row>90</th><td>versicolor</td><td> 90</td><td>0.5</td><td>2</td></tr>\n",
              "\t<tr><th scope=row>93</th><td>versicolor</td><td> 93</td><td>0.5</td><td>2</td></tr>\n",
              "\t<tr><th scope=row>94</th><td>versicolor</td><td> 94</td><td>0.5</td><td>2</td></tr>\n",
              "\t<tr><th scope=row>99</th><td>versicolor</td><td> 99</td><td>0.5</td><td>2</td></tr>\n",
              "\t<tr><th scope=row>103</th><td>virginica </td><td>103</td><td>0.5</td><td>3</td></tr>\n",
              "\t<tr><th scope=row>108</th><td>virginica </td><td>108</td><td>0.5</td><td>3</td></tr>\n",
              "\t<tr><th scope=row>111</th><td>virginica </td><td>111</td><td>0.5</td><td>3</td></tr>\n",
              "\t<tr><th scope=row>116</th><td>virginica </td><td>116</td><td>0.5</td><td>3</td></tr>\n",
              "\t<tr><th scope=row>121</th><td>virginica </td><td>121</td><td>0.5</td><td>3</td></tr>\n",
              "\t<tr><th scope=row>124</th><td>virginica </td><td>124</td><td>0.5</td><td>3</td></tr>\n",
              "\t<tr><th scope=row>126</th><td>virginica </td><td>126</td><td>0.5</td><td>3</td></tr>\n",
              "\t<tr><th scope=row>127</th><td>virginica </td><td>127</td><td>0.5</td><td>3</td></tr>\n",
              "\t<tr><th scope=row>128</th><td>virginica </td><td>128</td><td>0.5</td><td>3</td></tr>\n",
              "\t<tr><th scope=row>131</th><td>virginica </td><td>131</td><td>0.5</td><td>3</td></tr>\n",
              "\t<tr><th scope=row>132</th><td>virginica </td><td>132</td><td>0.5</td><td>3</td></tr>\n",
              "\t<tr><th scope=row>133</th><td>virginica </td><td>133</td><td>0.5</td><td>3</td></tr>\n",
              "\t<tr><th scope=row>135</th><td>virginica </td><td>135</td><td>0.5</td><td>3</td></tr>\n",
              "\t<tr><th scope=row>136</th><td>virginica </td><td>136</td><td>0.5</td><td>3</td></tr>\n",
              "\t<tr><th scope=row>137</th><td>virginica </td><td>137</td><td>0.5</td><td>3</td></tr>\n",
              "\t<tr><th scope=row>139</th><td>virginica </td><td>139</td><td>0.5</td><td>3</td></tr>\n",
              "\t<tr><th scope=row>140</th><td>virginica </td><td>140</td><td>0.5</td><td>3</td></tr>\n",
              "\t<tr><th scope=row>141</th><td>virginica </td><td>141</td><td>0.5</td><td>3</td></tr>\n",
              "\t<tr><th scope=row>142</th><td>virginica </td><td>142</td><td>0.5</td><td>3</td></tr>\n",
              "\t<tr><th scope=row>144</th><td>virginica </td><td>144</td><td>0.5</td><td>3</td></tr>\n",
              "\t<tr><th scope=row>145</th><td>virginica </td><td>145</td><td>0.5</td><td>3</td></tr>\n",
              "\t<tr><th scope=row>146</th><td>virginica </td><td>146</td><td>0.5</td><td>3</td></tr>\n",
              "\t<tr><th scope=row>147</th><td>virginica </td><td>147</td><td>0.5</td><td>3</td></tr>\n",
              "\t<tr><th scope=row>148</th><td>virginica </td><td>148</td><td>0.5</td><td>3</td></tr>\n",
              "\t<tr><th scope=row>149</th><td>virginica </td><td>149</td><td>0.5</td><td>3</td></tr>\n",
              "</tbody>\n",
              "</table>\n"
            ],
            "text/markdown": "\nA data.frame: 75 × 4\n\n| <!--/--> | Species &lt;fct&gt; | ID_unit &lt;int&gt; | Prob &lt;dbl&gt; | Stratum &lt;int&gt; |\n|---|---|---|---|---|\n| 2 | setosa     |  2 | 0.5 | 1 |\n| 4 | setosa     |  4 | 0.5 | 1 |\n| 6 | setosa     |  6 | 0.5 | 1 |\n| 8 | setosa     |  8 | 0.5 | 1 |\n| 10 | setosa     | 10 | 0.5 | 1 |\n| 11 | setosa     | 11 | 0.5 | 1 |\n| 12 | setosa     | 12 | 0.5 | 1 |\n| 13 | setosa     | 13 | 0.5 | 1 |\n| 14 | setosa     | 14 | 0.5 | 1 |\n| 17 | setosa     | 17 | 0.5 | 1 |\n| 24 | setosa     | 24 | 0.5 | 1 |\n| 27 | setosa     | 27 | 0.5 | 1 |\n| 29 | setosa     | 29 | 0.5 | 1 |\n| 30 | setosa     | 30 | 0.5 | 1 |\n| 33 | setosa     | 33 | 0.5 | 1 |\n| 34 | setosa     | 34 | 0.5 | 1 |\n| 36 | setosa     | 36 | 0.5 | 1 |\n| 38 | setosa     | 38 | 0.5 | 1 |\n| 40 | setosa     | 40 | 0.5 | 1 |\n| 42 | setosa     | 42 | 0.5 | 1 |\n| 46 | setosa     | 46 | 0.5 | 1 |\n| 47 | setosa     | 47 | 0.5 | 1 |\n| 48 | setosa     | 48 | 0.5 | 1 |\n| 49 | setosa     | 49 | 0.5 | 1 |\n| 50 | setosa     | 50 | 0.5 | 1 |\n| 51 | versicolor | 51 | 0.5 | 2 |\n| 52 | versicolor | 52 | 0.5 | 2 |\n| 54 | versicolor | 54 | 0.5 | 2 |\n| 55 | versicolor | 55 | 0.5 | 2 |\n| 56 | versicolor | 56 | 0.5 | 2 |\n| ⋮ | ⋮ | ⋮ | ⋮ | ⋮ |\n| 89 | versicolor |  89 | 0.5 | 2 |\n| 90 | versicolor |  90 | 0.5 | 2 |\n| 93 | versicolor |  93 | 0.5 | 2 |\n| 94 | versicolor |  94 | 0.5 | 2 |\n| 99 | versicolor |  99 | 0.5 | 2 |\n| 103 | virginica  | 103 | 0.5 | 3 |\n| 108 | virginica  | 108 | 0.5 | 3 |\n| 111 | virginica  | 111 | 0.5 | 3 |\n| 116 | virginica  | 116 | 0.5 | 3 |\n| 121 | virginica  | 121 | 0.5 | 3 |\n| 124 | virginica  | 124 | 0.5 | 3 |\n| 126 | virginica  | 126 | 0.5 | 3 |\n| 127 | virginica  | 127 | 0.5 | 3 |\n| 128 | virginica  | 128 | 0.5 | 3 |\n| 131 | virginica  | 131 | 0.5 | 3 |\n| 132 | virginica  | 132 | 0.5 | 3 |\n| 133 | virginica  | 133 | 0.5 | 3 |\n| 135 | virginica  | 135 | 0.5 | 3 |\n| 136 | virginica  | 136 | 0.5 | 3 |\n| 137 | virginica  | 137 | 0.5 | 3 |\n| 139 | virginica  | 139 | 0.5 | 3 |\n| 140 | virginica  | 140 | 0.5 | 3 |\n| 141 | virginica  | 141 | 0.5 | 3 |\n| 142 | virginica  | 142 | 0.5 | 3 |\n| 144 | virginica  | 144 | 0.5 | 3 |\n| 145 | virginica  | 145 | 0.5 | 3 |\n| 146 | virginica  | 146 | 0.5 | 3 |\n| 147 | virginica  | 147 | 0.5 | 3 |\n| 148 | virginica  | 148 | 0.5 | 3 |\n| 149 | virginica  | 149 | 0.5 | 3 |\n\n",
            "text/latex": "A data.frame: 75 × 4\n\\begin{tabular}{r|llll}\n  & Species & ID\\_unit & Prob & Stratum\\\\\n  & <fct> & <int> & <dbl> & <int>\\\\\n\\hline\n\t2 & setosa     &  2 & 0.5 & 1\\\\\n\t4 & setosa     &  4 & 0.5 & 1\\\\\n\t6 & setosa     &  6 & 0.5 & 1\\\\\n\t8 & setosa     &  8 & 0.5 & 1\\\\\n\t10 & setosa     & 10 & 0.5 & 1\\\\\n\t11 & setosa     & 11 & 0.5 & 1\\\\\n\t12 & setosa     & 12 & 0.5 & 1\\\\\n\t13 & setosa     & 13 & 0.5 & 1\\\\\n\t14 & setosa     & 14 & 0.5 & 1\\\\\n\t17 & setosa     & 17 & 0.5 & 1\\\\\n\t24 & setosa     & 24 & 0.5 & 1\\\\\n\t27 & setosa     & 27 & 0.5 & 1\\\\\n\t29 & setosa     & 29 & 0.5 & 1\\\\\n\t30 & setosa     & 30 & 0.5 & 1\\\\\n\t33 & setosa     & 33 & 0.5 & 1\\\\\n\t34 & setosa     & 34 & 0.5 & 1\\\\\n\t36 & setosa     & 36 & 0.5 & 1\\\\\n\t38 & setosa     & 38 & 0.5 & 1\\\\\n\t40 & setosa     & 40 & 0.5 & 1\\\\\n\t42 & setosa     & 42 & 0.5 & 1\\\\\n\t46 & setosa     & 46 & 0.5 & 1\\\\\n\t47 & setosa     & 47 & 0.5 & 1\\\\\n\t48 & setosa     & 48 & 0.5 & 1\\\\\n\t49 & setosa     & 49 & 0.5 & 1\\\\\n\t50 & setosa     & 50 & 0.5 & 1\\\\\n\t51 & versicolor & 51 & 0.5 & 2\\\\\n\t52 & versicolor & 52 & 0.5 & 2\\\\\n\t54 & versicolor & 54 & 0.5 & 2\\\\\n\t55 & versicolor & 55 & 0.5 & 2\\\\\n\t56 & versicolor & 56 & 0.5 & 2\\\\\n\t⋮ & ⋮ & ⋮ & ⋮ & ⋮\\\\\n\t89 & versicolor &  89 & 0.5 & 2\\\\\n\t90 & versicolor &  90 & 0.5 & 2\\\\\n\t93 & versicolor &  93 & 0.5 & 2\\\\\n\t94 & versicolor &  94 & 0.5 & 2\\\\\n\t99 & versicolor &  99 & 0.5 & 2\\\\\n\t103 & virginica  & 103 & 0.5 & 3\\\\\n\t108 & virginica  & 108 & 0.5 & 3\\\\\n\t111 & virginica  & 111 & 0.5 & 3\\\\\n\t116 & virginica  & 116 & 0.5 & 3\\\\\n\t121 & virginica  & 121 & 0.5 & 3\\\\\n\t124 & virginica  & 124 & 0.5 & 3\\\\\n\t126 & virginica  & 126 & 0.5 & 3\\\\\n\t127 & virginica  & 127 & 0.5 & 3\\\\\n\t128 & virginica  & 128 & 0.5 & 3\\\\\n\t131 & virginica  & 131 & 0.5 & 3\\\\\n\t132 & virginica  & 132 & 0.5 & 3\\\\\n\t133 & virginica  & 133 & 0.5 & 3\\\\\n\t135 & virginica  & 135 & 0.5 & 3\\\\\n\t136 & virginica  & 136 & 0.5 & 3\\\\\n\t137 & virginica  & 137 & 0.5 & 3\\\\\n\t139 & virginica  & 139 & 0.5 & 3\\\\\n\t140 & virginica  & 140 & 0.5 & 3\\\\\n\t141 & virginica  & 141 & 0.5 & 3\\\\\n\t142 & virginica  & 142 & 0.5 & 3\\\\\n\t144 & virginica  & 144 & 0.5 & 3\\\\\n\t145 & virginica  & 145 & 0.5 & 3\\\\\n\t146 & virginica  & 146 & 0.5 & 3\\\\\n\t147 & virginica  & 147 & 0.5 & 3\\\\\n\t148 & virginica  & 148 & 0.5 & 3\\\\\n\t149 & virginica  & 149 & 0.5 & 3\\\\\n\\end{tabular}\n",
            "text/plain": [
              "    Species    ID_unit Prob Stratum\n",
              "2   setosa      2      0.5  1      \n",
              "4   setosa      4      0.5  1      \n",
              "6   setosa      6      0.5  1      \n",
              "8   setosa      8      0.5  1      \n",
              "10  setosa     10      0.5  1      \n",
              "11  setosa     11      0.5  1      \n",
              "12  setosa     12      0.5  1      \n",
              "13  setosa     13      0.5  1      \n",
              "14  setosa     14      0.5  1      \n",
              "17  setosa     17      0.5  1      \n",
              "24  setosa     24      0.5  1      \n",
              "27  setosa     27      0.5  1      \n",
              "29  setosa     29      0.5  1      \n",
              "30  setosa     30      0.5  1      \n",
              "33  setosa     33      0.5  1      \n",
              "34  setosa     34      0.5  1      \n",
              "36  setosa     36      0.5  1      \n",
              "38  setosa     38      0.5  1      \n",
              "40  setosa     40      0.5  1      \n",
              "42  setosa     42      0.5  1      \n",
              "46  setosa     46      0.5  1      \n",
              "47  setosa     47      0.5  1      \n",
              "48  setosa     48      0.5  1      \n",
              "49  setosa     49      0.5  1      \n",
              "50  setosa     50      0.5  1      \n",
              "51  versicolor 51      0.5  2      \n",
              "52  versicolor 52      0.5  2      \n",
              "54  versicolor 54      0.5  2      \n",
              "55  versicolor 55      0.5  2      \n",
              "56  versicolor 56      0.5  2      \n",
              "⋮   ⋮          ⋮       ⋮    ⋮      \n",
              "89  versicolor  89     0.5  2      \n",
              "90  versicolor  90     0.5  2      \n",
              "93  versicolor  93     0.5  2      \n",
              "94  versicolor  94     0.5  2      \n",
              "99  versicolor  99     0.5  2      \n",
              "103 virginica  103     0.5  3      \n",
              "108 virginica  108     0.5  3      \n",
              "111 virginica  111     0.5  3      \n",
              "116 virginica  116     0.5  3      \n",
              "121 virginica  121     0.5  3      \n",
              "124 virginica  124     0.5  3      \n",
              "126 virginica  126     0.5  3      \n",
              "127 virginica  127     0.5  3      \n",
              "128 virginica  128     0.5  3      \n",
              "131 virginica  131     0.5  3      \n",
              "132 virginica  132     0.5  3      \n",
              "133 virginica  133     0.5  3      \n",
              "135 virginica  135     0.5  3      \n",
              "136 virginica  136     0.5  3      \n",
              "137 virginica  137     0.5  3      \n",
              "139 virginica  139     0.5  3      \n",
              "140 virginica  140     0.5  3      \n",
              "141 virginica  141     0.5  3      \n",
              "142 virginica  142     0.5  3      \n",
              "144 virginica  144     0.5  3      \n",
              "145 virginica  145     0.5  3      \n",
              "146 virginica  146     0.5  3      \n",
              "147 virginica  147     0.5  3      \n",
              "148 virginica  148     0.5  3      \n",
              "149 virginica  149     0.5  3      "
            ]
          },
          "metadata": {}
        }
      ]
    },
    {
      "cell_type": "code",
      "source": [
        "#Resumo estatístico mostrando como é possível obter amostras dentro de subgrupos de forma controlada, sendo 25 espécie de cada.\n",
        "summary(amostraestratificada)"
      ],
      "metadata": {
        "colab": {
          "base_uri": "https://localhost:8080/",
          "height": 138
        },
        "id": "AHIqwiSdd7HF",
        "outputId": "a6972bc1-c58c-4cf3-d164-c991aea59838"
      },
      "execution_count": 15,
      "outputs": [
        {
          "output_type": "display_data",
          "data": {
            "text/plain": [
              "       Species      ID_unit            Prob        Stratum \n",
              " setosa    :25   Min.   :  2.00   Min.   :0.5   Min.   :1  \n",
              " versicolor:25   1st Qu.: 41.00   1st Qu.:0.5   1st Qu.:1  \n",
              " virginica :25   Median : 72.00   Median :0.5   Median :2  \n",
              "                 Mean   : 77.44   Mean   :0.5   Mean   :2  \n",
              "                 3rd Qu.:125.00   3rd Qu.:0.5   3rd Qu.:3  \n",
              "                 Max.   :149.00   Max.   :0.5   Max.   :3  "
            ]
          },
          "metadata": {}
        }
      ]
    },
    {
      "cell_type": "code",
      "source": [
        "'Outro exemplo com subgrupos em números não iguais"
      ],
      "metadata": {
        "id": "XiNRF9PPh-eR"
      },
      "execution_count": null,
      "outputs": []
    },
    {
      "cell_type": "code",
      "source": [
        "#desmontrando o conjunto de dados que será trabalhando\n",
        "infert"
      ],
      "metadata": {
        "colab": {
          "base_uri": "https://localhost:8080/",
          "height": 1000
        },
        "id": "IgXRMP2Yet4l",
        "outputId": "be08b24f-869f-423a-e0f9-105799f1ae3e"
      },
      "execution_count": 16,
      "outputs": [
        {
          "output_type": "display_data",
          "data": {
            "text/html": [
              "<table class=\"dataframe\">\n",
              "<caption>A data.frame: 248 × 8</caption>\n",
              "<thead>\n",
              "\t<tr><th scope=col>education</th><th scope=col>age</th><th scope=col>parity</th><th scope=col>induced</th><th scope=col>case</th><th scope=col>spontaneous</th><th scope=col>stratum</th><th scope=col>pooled.stratum</th></tr>\n",
              "\t<tr><th scope=col>&lt;fct&gt;</th><th scope=col>&lt;dbl&gt;</th><th scope=col>&lt;dbl&gt;</th><th scope=col>&lt;dbl&gt;</th><th scope=col>&lt;dbl&gt;</th><th scope=col>&lt;dbl&gt;</th><th scope=col>&lt;int&gt;</th><th scope=col>&lt;dbl&gt;</th></tr>\n",
              "</thead>\n",
              "<tbody>\n",
              "\t<tr><td>0-5yrs </td><td>26</td><td>6</td><td>1</td><td>1</td><td>2</td><td> 1</td><td> 3</td></tr>\n",
              "\t<tr><td>0-5yrs </td><td>42</td><td>1</td><td>1</td><td>1</td><td>0</td><td> 2</td><td> 1</td></tr>\n",
              "\t<tr><td>0-5yrs </td><td>39</td><td>6</td><td>2</td><td>1</td><td>0</td><td> 3</td><td> 4</td></tr>\n",
              "\t<tr><td>0-5yrs </td><td>34</td><td>4</td><td>2</td><td>1</td><td>0</td><td> 4</td><td> 2</td></tr>\n",
              "\t<tr><td>6-11yrs</td><td>35</td><td>3</td><td>1</td><td>1</td><td>1</td><td> 5</td><td>32</td></tr>\n",
              "\t<tr><td>6-11yrs</td><td>36</td><td>4</td><td>2</td><td>1</td><td>1</td><td> 6</td><td>36</td></tr>\n",
              "\t<tr><td>6-11yrs</td><td>23</td><td>1</td><td>0</td><td>1</td><td>0</td><td> 7</td><td> 6</td></tr>\n",
              "\t<tr><td>6-11yrs</td><td>32</td><td>2</td><td>0</td><td>1</td><td>0</td><td> 8</td><td>22</td></tr>\n",
              "\t<tr><td>6-11yrs</td><td>21</td><td>1</td><td>0</td><td>1</td><td>1</td><td> 9</td><td> 5</td></tr>\n",
              "\t<tr><td>6-11yrs</td><td>28</td><td>2</td><td>0</td><td>1</td><td>0</td><td>10</td><td>19</td></tr>\n",
              "\t<tr><td>6-11yrs</td><td>29</td><td>2</td><td>1</td><td>1</td><td>0</td><td>11</td><td>20</td></tr>\n",
              "\t<tr><td>6-11yrs</td><td>37</td><td>4</td><td>2</td><td>1</td><td>1</td><td>12</td><td>37</td></tr>\n",
              "\t<tr><td>6-11yrs</td><td>31</td><td>1</td><td>1</td><td>1</td><td>0</td><td>13</td><td> 9</td></tr>\n",
              "\t<tr><td>6-11yrs</td><td>29</td><td>3</td><td>2</td><td>1</td><td>0</td><td>14</td><td>29</td></tr>\n",
              "\t<tr><td>6-11yrs</td><td>31</td><td>2</td><td>1</td><td>1</td><td>1</td><td>15</td><td>21</td></tr>\n",
              "\t<tr><td>6-11yrs</td><td>27</td><td>2</td><td>2</td><td>1</td><td>0</td><td>16</td><td>18</td></tr>\n",
              "\t<tr><td>6-11yrs</td><td>30</td><td>5</td><td>2</td><td>1</td><td>1</td><td>17</td><td>38</td></tr>\n",
              "\t<tr><td>6-11yrs</td><td>26</td><td>1</td><td>0</td><td>1</td><td>1</td><td>18</td><td> 7</td></tr>\n",
              "\t<tr><td>6-11yrs</td><td>25</td><td>3</td><td>2</td><td>1</td><td>1</td><td>19</td><td>28</td></tr>\n",
              "\t<tr><td>6-11yrs</td><td>44</td><td>1</td><td>0</td><td>1</td><td>1</td><td>20</td><td>17</td></tr>\n",
              "\t<tr><td>6-11yrs</td><td>40</td><td>1</td><td>0</td><td>1</td><td>1</td><td>21</td><td>14</td></tr>\n",
              "\t<tr><td>6-11yrs</td><td>35</td><td>2</td><td>2</td><td>1</td><td>0</td><td>22</td><td>24</td></tr>\n",
              "\t<tr><td>6-11yrs</td><td>28</td><td>2</td><td>0</td><td>1</td><td>2</td><td>23</td><td>19</td></tr>\n",
              "\t<tr><td>6-11yrs</td><td>36</td><td>1</td><td>0</td><td>1</td><td>1</td><td>24</td><td>12</td></tr>\n",
              "\t<tr><td>6-11yrs</td><td>27</td><td>2</td><td>1</td><td>1</td><td>1</td><td>25</td><td>18</td></tr>\n",
              "\t<tr><td>6-11yrs</td><td>40</td><td>2</td><td>0</td><td>1</td><td>2</td><td>26</td><td>27</td></tr>\n",
              "\t<tr><td>6-11yrs</td><td>38</td><td>2</td><td>0</td><td>1</td><td>2</td><td>27</td><td>26</td></tr>\n",
              "\t<tr><td>6-11yrs</td><td>34</td><td>3</td><td>0</td><td>1</td><td>2</td><td>28</td><td>31</td></tr>\n",
              "\t<tr><td>6-11yrs</td><td>28</td><td>4</td><td>1</td><td>1</td><td>2</td><td>29</td><td>34</td></tr>\n",
              "\t<tr><td>6-11yrs</td><td>30</td><td>4</td><td>2</td><td>1</td><td>0</td><td>30</td><td>35</td></tr>\n",
              "\t<tr><td>⋮</td><td>⋮</td><td>⋮</td><td>⋮</td><td>⋮</td><td>⋮</td><td>⋮</td><td>⋮</td></tr>\n",
              "\t<tr><td>12+ yrs</td><td>28</td><td>1</td><td>0</td><td>0</td><td>1</td><td>54</td><td>42</td></tr>\n",
              "\t<tr><td>12+ yrs</td><td>29</td><td>2</td><td>1</td><td>0</td><td>1</td><td>55</td><td>52</td></tr>\n",
              "\t<tr><td>12+ yrs</td><td>36</td><td>2</td><td>0</td><td>0</td><td>1</td><td>56</td><td>55</td></tr>\n",
              "\t<tr><td>12+ yrs</td><td>28</td><td>2</td><td>2</td><td>0</td><td>0</td><td>57</td><td>51</td></tr>\n",
              "\t<tr><td>12+ yrs</td><td>28</td><td>2</td><td>1</td><td>0</td><td>0</td><td>58</td><td>51</td></tr>\n",
              "\t<tr><td>12+ yrs</td><td>28</td><td>1</td><td>0</td><td>0</td><td>0</td><td>59</td><td>42</td></tr>\n",
              "\t<tr><td>12+ yrs</td><td>27</td><td>2</td><td>1</td><td>0</td><td>0</td><td>60</td><td>50</td></tr>\n",
              "\t<tr><td>12+ yrs</td><td>35</td><td>2</td><td>1</td><td>0</td><td>0</td><td>61</td><td>54</td></tr>\n",
              "\t<tr><td>12+ yrs</td><td>25</td><td>1</td><td>1</td><td>0</td><td>0</td><td>62</td><td>41</td></tr>\n",
              "\t<tr><td>12+ yrs</td><td>34</td><td>1</td><td>0</td><td>0</td><td>0</td><td>63</td><td>47</td></tr>\n",
              "\t<tr><td>12+ yrs</td><td>31</td><td>2</td><td>1</td><td>0</td><td>0</td><td>64</td><td>53</td></tr>\n",
              "\t<tr><td>12+ yrs</td><td>26</td><td>2</td><td>0</td><td>0</td><td>2</td><td>65</td><td>49</td></tr>\n",
              "\t<tr><td>12+ yrs</td><td>32</td><td>1</td><td>1</td><td>0</td><td>0</td><td>66</td><td>46</td></tr>\n",
              "\t<tr><td>12+ yrs</td><td>21</td><td>1</td><td>0</td><td>0</td><td>0</td><td>67</td><td>39</td></tr>\n",
              "\t<tr><td>12+ yrs</td><td>28</td><td>3</td><td>2</td><td>0</td><td>0</td><td>68</td><td>58</td></tr>\n",
              "\t<tr><td>12+ yrs</td><td>37</td><td>3</td><td>0</td><td>0</td><td>2</td><td>69</td><td>59</td></tr>\n",
              "\t<tr><td>12+ yrs</td><td>25</td><td>1</td><td>1</td><td>0</td><td>0</td><td>70</td><td>41</td></tr>\n",
              "\t<tr><td>12+ yrs</td><td>32</td><td>1</td><td>0</td><td>0</td><td>0</td><td>71</td><td>46</td></tr>\n",
              "\t<tr><td>12+ yrs</td><td>25</td><td>1</td><td>1</td><td>0</td><td>0</td><td>72</td><td>41</td></tr>\n",
              "\t<tr><td>12+ yrs</td><td>31</td><td>1</td><td>0</td><td>0</td><td>0</td><td>73</td><td>45</td></tr>\n",
              "\t<tr><td>12+ yrs</td><td>38</td><td>6</td><td>0</td><td>0</td><td>2</td><td>74</td><td>63</td></tr>\n",
              "\t<tr><td>12+ yrs</td><td>26</td><td>2</td><td>1</td><td>0</td><td>1</td><td>75</td><td>49</td></tr>\n",
              "\t<tr><td>12+ yrs</td><td>31</td><td>1</td><td>1</td><td>0</td><td>0</td><td>76</td><td>45</td></tr>\n",
              "\t<tr><td>12+ yrs</td><td>31</td><td>2</td><td>0</td><td>0</td><td>1</td><td>77</td><td>53</td></tr>\n",
              "\t<tr><td>12+ yrs</td><td>25</td><td>1</td><td>0</td><td>0</td><td>1</td><td>78</td><td>41</td></tr>\n",
              "\t<tr><td>12+ yrs</td><td>31</td><td>1</td><td>0</td><td>0</td><td>1</td><td>79</td><td>45</td></tr>\n",
              "\t<tr><td>12+ yrs</td><td>34</td><td>1</td><td>0</td><td>0</td><td>0</td><td>80</td><td>47</td></tr>\n",
              "\t<tr><td>12+ yrs</td><td>35</td><td>2</td><td>2</td><td>0</td><td>0</td><td>81</td><td>54</td></tr>\n",
              "\t<tr><td>12+ yrs</td><td>29</td><td>1</td><td>0</td><td>0</td><td>1</td><td>82</td><td>43</td></tr>\n",
              "\t<tr><td>12+ yrs</td><td>23</td><td>1</td><td>0</td><td>0</td><td>1</td><td>83</td><td>40</td></tr>\n",
              "</tbody>\n",
              "</table>\n"
            ],
            "text/markdown": "\nA data.frame: 248 × 8\n\n| education &lt;fct&gt; | age &lt;dbl&gt; | parity &lt;dbl&gt; | induced &lt;dbl&gt; | case &lt;dbl&gt; | spontaneous &lt;dbl&gt; | stratum &lt;int&gt; | pooled.stratum &lt;dbl&gt; |\n|---|---|---|---|---|---|---|---|\n| 0-5yrs  | 26 | 6 | 1 | 1 | 2 |  1 |  3 |\n| 0-5yrs  | 42 | 1 | 1 | 1 | 0 |  2 |  1 |\n| 0-5yrs  | 39 | 6 | 2 | 1 | 0 |  3 |  4 |\n| 0-5yrs  | 34 | 4 | 2 | 1 | 0 |  4 |  2 |\n| 6-11yrs | 35 | 3 | 1 | 1 | 1 |  5 | 32 |\n| 6-11yrs | 36 | 4 | 2 | 1 | 1 |  6 | 36 |\n| 6-11yrs | 23 | 1 | 0 | 1 | 0 |  7 |  6 |\n| 6-11yrs | 32 | 2 | 0 | 1 | 0 |  8 | 22 |\n| 6-11yrs | 21 | 1 | 0 | 1 | 1 |  9 |  5 |\n| 6-11yrs | 28 | 2 | 0 | 1 | 0 | 10 | 19 |\n| 6-11yrs | 29 | 2 | 1 | 1 | 0 | 11 | 20 |\n| 6-11yrs | 37 | 4 | 2 | 1 | 1 | 12 | 37 |\n| 6-11yrs | 31 | 1 | 1 | 1 | 0 | 13 |  9 |\n| 6-11yrs | 29 | 3 | 2 | 1 | 0 | 14 | 29 |\n| 6-11yrs | 31 | 2 | 1 | 1 | 1 | 15 | 21 |\n| 6-11yrs | 27 | 2 | 2 | 1 | 0 | 16 | 18 |\n| 6-11yrs | 30 | 5 | 2 | 1 | 1 | 17 | 38 |\n| 6-11yrs | 26 | 1 | 0 | 1 | 1 | 18 |  7 |\n| 6-11yrs | 25 | 3 | 2 | 1 | 1 | 19 | 28 |\n| 6-11yrs | 44 | 1 | 0 | 1 | 1 | 20 | 17 |\n| 6-11yrs | 40 | 1 | 0 | 1 | 1 | 21 | 14 |\n| 6-11yrs | 35 | 2 | 2 | 1 | 0 | 22 | 24 |\n| 6-11yrs | 28 | 2 | 0 | 1 | 2 | 23 | 19 |\n| 6-11yrs | 36 | 1 | 0 | 1 | 1 | 24 | 12 |\n| 6-11yrs | 27 | 2 | 1 | 1 | 1 | 25 | 18 |\n| 6-11yrs | 40 | 2 | 0 | 1 | 2 | 26 | 27 |\n| 6-11yrs | 38 | 2 | 0 | 1 | 2 | 27 | 26 |\n| 6-11yrs | 34 | 3 | 0 | 1 | 2 | 28 | 31 |\n| 6-11yrs | 28 | 4 | 1 | 1 | 2 | 29 | 34 |\n| 6-11yrs | 30 | 4 | 2 | 1 | 0 | 30 | 35 |\n| ⋮ | ⋮ | ⋮ | ⋮ | ⋮ | ⋮ | ⋮ | ⋮ |\n| 12+ yrs | 28 | 1 | 0 | 0 | 1 | 54 | 42 |\n| 12+ yrs | 29 | 2 | 1 | 0 | 1 | 55 | 52 |\n| 12+ yrs | 36 | 2 | 0 | 0 | 1 | 56 | 55 |\n| 12+ yrs | 28 | 2 | 2 | 0 | 0 | 57 | 51 |\n| 12+ yrs | 28 | 2 | 1 | 0 | 0 | 58 | 51 |\n| 12+ yrs | 28 | 1 | 0 | 0 | 0 | 59 | 42 |\n| 12+ yrs | 27 | 2 | 1 | 0 | 0 | 60 | 50 |\n| 12+ yrs | 35 | 2 | 1 | 0 | 0 | 61 | 54 |\n| 12+ yrs | 25 | 1 | 1 | 0 | 0 | 62 | 41 |\n| 12+ yrs | 34 | 1 | 0 | 0 | 0 | 63 | 47 |\n| 12+ yrs | 31 | 2 | 1 | 0 | 0 | 64 | 53 |\n| 12+ yrs | 26 | 2 | 0 | 0 | 2 | 65 | 49 |\n| 12+ yrs | 32 | 1 | 1 | 0 | 0 | 66 | 46 |\n| 12+ yrs | 21 | 1 | 0 | 0 | 0 | 67 | 39 |\n| 12+ yrs | 28 | 3 | 2 | 0 | 0 | 68 | 58 |\n| 12+ yrs | 37 | 3 | 0 | 0 | 2 | 69 | 59 |\n| 12+ yrs | 25 | 1 | 1 | 0 | 0 | 70 | 41 |\n| 12+ yrs | 32 | 1 | 0 | 0 | 0 | 71 | 46 |\n| 12+ yrs | 25 | 1 | 1 | 0 | 0 | 72 | 41 |\n| 12+ yrs | 31 | 1 | 0 | 0 | 0 | 73 | 45 |\n| 12+ yrs | 38 | 6 | 0 | 0 | 2 | 74 | 63 |\n| 12+ yrs | 26 | 2 | 1 | 0 | 1 | 75 | 49 |\n| 12+ yrs | 31 | 1 | 1 | 0 | 0 | 76 | 45 |\n| 12+ yrs | 31 | 2 | 0 | 0 | 1 | 77 | 53 |\n| 12+ yrs | 25 | 1 | 0 | 0 | 1 | 78 | 41 |\n| 12+ yrs | 31 | 1 | 0 | 0 | 1 | 79 | 45 |\n| 12+ yrs | 34 | 1 | 0 | 0 | 0 | 80 | 47 |\n| 12+ yrs | 35 | 2 | 2 | 0 | 0 | 81 | 54 |\n| 12+ yrs | 29 | 1 | 0 | 0 | 1 | 82 | 43 |\n| 12+ yrs | 23 | 1 | 0 | 0 | 1 | 83 | 40 |\n\n",
            "text/latex": "A data.frame: 248 × 8\n\\begin{tabular}{llllllll}\n education & age & parity & induced & case & spontaneous & stratum & pooled.stratum\\\\\n <fct> & <dbl> & <dbl> & <dbl> & <dbl> & <dbl> & <int> & <dbl>\\\\\n\\hline\n\t 0-5yrs  & 26 & 6 & 1 & 1 & 2 &  1 &  3\\\\\n\t 0-5yrs  & 42 & 1 & 1 & 1 & 0 &  2 &  1\\\\\n\t 0-5yrs  & 39 & 6 & 2 & 1 & 0 &  3 &  4\\\\\n\t 0-5yrs  & 34 & 4 & 2 & 1 & 0 &  4 &  2\\\\\n\t 6-11yrs & 35 & 3 & 1 & 1 & 1 &  5 & 32\\\\\n\t 6-11yrs & 36 & 4 & 2 & 1 & 1 &  6 & 36\\\\\n\t 6-11yrs & 23 & 1 & 0 & 1 & 0 &  7 &  6\\\\\n\t 6-11yrs & 32 & 2 & 0 & 1 & 0 &  8 & 22\\\\\n\t 6-11yrs & 21 & 1 & 0 & 1 & 1 &  9 &  5\\\\\n\t 6-11yrs & 28 & 2 & 0 & 1 & 0 & 10 & 19\\\\\n\t 6-11yrs & 29 & 2 & 1 & 1 & 0 & 11 & 20\\\\\n\t 6-11yrs & 37 & 4 & 2 & 1 & 1 & 12 & 37\\\\\n\t 6-11yrs & 31 & 1 & 1 & 1 & 0 & 13 &  9\\\\\n\t 6-11yrs & 29 & 3 & 2 & 1 & 0 & 14 & 29\\\\\n\t 6-11yrs & 31 & 2 & 1 & 1 & 1 & 15 & 21\\\\\n\t 6-11yrs & 27 & 2 & 2 & 1 & 0 & 16 & 18\\\\\n\t 6-11yrs & 30 & 5 & 2 & 1 & 1 & 17 & 38\\\\\n\t 6-11yrs & 26 & 1 & 0 & 1 & 1 & 18 &  7\\\\\n\t 6-11yrs & 25 & 3 & 2 & 1 & 1 & 19 & 28\\\\\n\t 6-11yrs & 44 & 1 & 0 & 1 & 1 & 20 & 17\\\\\n\t 6-11yrs & 40 & 1 & 0 & 1 & 1 & 21 & 14\\\\\n\t 6-11yrs & 35 & 2 & 2 & 1 & 0 & 22 & 24\\\\\n\t 6-11yrs & 28 & 2 & 0 & 1 & 2 & 23 & 19\\\\\n\t 6-11yrs & 36 & 1 & 0 & 1 & 1 & 24 & 12\\\\\n\t 6-11yrs & 27 & 2 & 1 & 1 & 1 & 25 & 18\\\\\n\t 6-11yrs & 40 & 2 & 0 & 1 & 2 & 26 & 27\\\\\n\t 6-11yrs & 38 & 2 & 0 & 1 & 2 & 27 & 26\\\\\n\t 6-11yrs & 34 & 3 & 0 & 1 & 2 & 28 & 31\\\\\n\t 6-11yrs & 28 & 4 & 1 & 1 & 2 & 29 & 34\\\\\n\t 6-11yrs & 30 & 4 & 2 & 1 & 0 & 30 & 35\\\\\n\t ⋮ & ⋮ & ⋮ & ⋮ & ⋮ & ⋮ & ⋮ & ⋮\\\\\n\t 12+ yrs & 28 & 1 & 0 & 0 & 1 & 54 & 42\\\\\n\t 12+ yrs & 29 & 2 & 1 & 0 & 1 & 55 & 52\\\\\n\t 12+ yrs & 36 & 2 & 0 & 0 & 1 & 56 & 55\\\\\n\t 12+ yrs & 28 & 2 & 2 & 0 & 0 & 57 & 51\\\\\n\t 12+ yrs & 28 & 2 & 1 & 0 & 0 & 58 & 51\\\\\n\t 12+ yrs & 28 & 1 & 0 & 0 & 0 & 59 & 42\\\\\n\t 12+ yrs & 27 & 2 & 1 & 0 & 0 & 60 & 50\\\\\n\t 12+ yrs & 35 & 2 & 1 & 0 & 0 & 61 & 54\\\\\n\t 12+ yrs & 25 & 1 & 1 & 0 & 0 & 62 & 41\\\\\n\t 12+ yrs & 34 & 1 & 0 & 0 & 0 & 63 & 47\\\\\n\t 12+ yrs & 31 & 2 & 1 & 0 & 0 & 64 & 53\\\\\n\t 12+ yrs & 26 & 2 & 0 & 0 & 2 & 65 & 49\\\\\n\t 12+ yrs & 32 & 1 & 1 & 0 & 0 & 66 & 46\\\\\n\t 12+ yrs & 21 & 1 & 0 & 0 & 0 & 67 & 39\\\\\n\t 12+ yrs & 28 & 3 & 2 & 0 & 0 & 68 & 58\\\\\n\t 12+ yrs & 37 & 3 & 0 & 0 & 2 & 69 & 59\\\\\n\t 12+ yrs & 25 & 1 & 1 & 0 & 0 & 70 & 41\\\\\n\t 12+ yrs & 32 & 1 & 0 & 0 & 0 & 71 & 46\\\\\n\t 12+ yrs & 25 & 1 & 1 & 0 & 0 & 72 & 41\\\\\n\t 12+ yrs & 31 & 1 & 0 & 0 & 0 & 73 & 45\\\\\n\t 12+ yrs & 38 & 6 & 0 & 0 & 2 & 74 & 63\\\\\n\t 12+ yrs & 26 & 2 & 1 & 0 & 1 & 75 & 49\\\\\n\t 12+ yrs & 31 & 1 & 1 & 0 & 0 & 76 & 45\\\\\n\t 12+ yrs & 31 & 2 & 0 & 0 & 1 & 77 & 53\\\\\n\t 12+ yrs & 25 & 1 & 0 & 0 & 1 & 78 & 41\\\\\n\t 12+ yrs & 31 & 1 & 0 & 0 & 1 & 79 & 45\\\\\n\t 12+ yrs & 34 & 1 & 0 & 0 & 0 & 80 & 47\\\\\n\t 12+ yrs & 35 & 2 & 2 & 0 & 0 & 81 & 54\\\\\n\t 12+ yrs & 29 & 1 & 0 & 0 & 1 & 82 & 43\\\\\n\t 12+ yrs & 23 & 1 & 0 & 0 & 1 & 83 & 40\\\\\n\\end{tabular}\n",
            "text/plain": [
              "    education age parity induced case spontaneous stratum pooled.stratum\n",
              "1   0-5yrs    26  6      1       1    2            1       3            \n",
              "2   0-5yrs    42  1      1       1    0            2       1            \n",
              "3   0-5yrs    39  6      2       1    0            3       4            \n",
              "4   0-5yrs    34  4      2       1    0            4       2            \n",
              "5   6-11yrs   35  3      1       1    1            5      32            \n",
              "6   6-11yrs   36  4      2       1    1            6      36            \n",
              "7   6-11yrs   23  1      0       1    0            7       6            \n",
              "8   6-11yrs   32  2      0       1    0            8      22            \n",
              "9   6-11yrs   21  1      0       1    1            9       5            \n",
              "10  6-11yrs   28  2      0       1    0           10      19            \n",
              "11  6-11yrs   29  2      1       1    0           11      20            \n",
              "12  6-11yrs   37  4      2       1    1           12      37            \n",
              "13  6-11yrs   31  1      1       1    0           13       9            \n",
              "14  6-11yrs   29  3      2       1    0           14      29            \n",
              "15  6-11yrs   31  2      1       1    1           15      21            \n",
              "16  6-11yrs   27  2      2       1    0           16      18            \n",
              "17  6-11yrs   30  5      2       1    1           17      38            \n",
              "18  6-11yrs   26  1      0       1    1           18       7            \n",
              "19  6-11yrs   25  3      2       1    1           19      28            \n",
              "20  6-11yrs   44  1      0       1    1           20      17            \n",
              "21  6-11yrs   40  1      0       1    1           21      14            \n",
              "22  6-11yrs   35  2      2       1    0           22      24            \n",
              "23  6-11yrs   28  2      0       1    2           23      19            \n",
              "24  6-11yrs   36  1      0       1    1           24      12            \n",
              "25  6-11yrs   27  2      1       1    1           25      18            \n",
              "26  6-11yrs   40  2      0       1    2           26      27            \n",
              "27  6-11yrs   38  2      0       1    2           27      26            \n",
              "28  6-11yrs   34  3      0       1    2           28      31            \n",
              "29  6-11yrs   28  4      1       1    2           29      34            \n",
              "30  6-11yrs   30  4      2       1    0           30      35            \n",
              "⋮   ⋮         ⋮   ⋮      ⋮       ⋮    ⋮           ⋮       ⋮             \n",
              "219 12+ yrs   28  1      0       0    1           54      42            \n",
              "220 12+ yrs   29  2      1       0    1           55      52            \n",
              "221 12+ yrs   36  2      0       0    1           56      55            \n",
              "222 12+ yrs   28  2      2       0    0           57      51            \n",
              "223 12+ yrs   28  2      1       0    0           58      51            \n",
              "224 12+ yrs   28  1      0       0    0           59      42            \n",
              "225 12+ yrs   27  2      1       0    0           60      50            \n",
              "226 12+ yrs   35  2      1       0    0           61      54            \n",
              "227 12+ yrs   25  1      1       0    0           62      41            \n",
              "228 12+ yrs   34  1      0       0    0           63      47            \n",
              "229 12+ yrs   31  2      1       0    0           64      53            \n",
              "230 12+ yrs   26  2      0       0    2           65      49            \n",
              "231 12+ yrs   32  1      1       0    0           66      46            \n",
              "232 12+ yrs   21  1      0       0    0           67      39            \n",
              "233 12+ yrs   28  3      2       0    0           68      58            \n",
              "234 12+ yrs   37  3      0       0    2           69      59            \n",
              "235 12+ yrs   25  1      1       0    0           70      41            \n",
              "236 12+ yrs   32  1      0       0    0           71      46            \n",
              "237 12+ yrs   25  1      1       0    0           72      41            \n",
              "238 12+ yrs   31  1      0       0    0           73      45            \n",
              "239 12+ yrs   38  6      0       0    2           74      63            \n",
              "240 12+ yrs   26  2      1       0    1           75      49            \n",
              "241 12+ yrs   31  1      1       0    0           76      45            \n",
              "242 12+ yrs   31  2      0       0    1           77      53            \n",
              "243 12+ yrs   25  1      0       0    1           78      41            \n",
              "244 12+ yrs   31  1      0       0    1           79      45            \n",
              "245 12+ yrs   34  1      0       0    0           80      47            \n",
              "246 12+ yrs   35  2      2       0    0           81      54            \n",
              "247 12+ yrs   29  1      0       0    1           82      43            \n",
              "248 12+ yrs   23  1      0       0    1           83      40            "
            ]
          },
          "metadata": {}
        }
      ]
    },
    {
      "cell_type": "code",
      "source": [
        "#Dimensões do conjunto: 248 instâncias e 8 atributos\n",
        "dim(infert)"
      ],
      "metadata": {
        "colab": {
          "base_uri": "https://localhost:8080/",
          "height": 34
        },
        "id": "7n2a3Rt2f1LE",
        "outputId": "8392c975-6127-4223-ec32-449527994e9a"
      },
      "execution_count": 21,
      "outputs": [
        {
          "output_type": "display_data",
          "data": {
            "text/html": [
              "<style>\n",
              ".list-inline {list-style: none; margin:0; padding: 0}\n",
              ".list-inline>li {display: inline-block}\n",
              ".list-inline>li:not(:last-child)::after {content: \"\\00b7\"; padding: 0 .5ex}\n",
              "</style>\n",
              "<ol class=list-inline><li>248</li><li>8</li></ol>\n"
            ],
            "text/markdown": "1. 248\n2. 8\n\n\n",
            "text/latex": "\\begin{enumerate*}\n\\item 248\n\\item 8\n\\end{enumerate*}\n",
            "text/plain": [
              "[1] 248   8"
            ]
          },
          "metadata": {}
        }
      ]
    },
    {
      "cell_type": "code",
      "source": [
        "#resumo estatístico do conjunto de dados\n",
        "summary(infert)"
      ],
      "metadata": {
        "colab": {
          "base_uri": "https://localhost:8080/",
          "height": 260
        },
        "id": "pST1pfq5fFyt",
        "outputId": "7e22de96-dcfb-47de-839b-9a3e0950a018"
      },
      "execution_count": 17,
      "outputs": [
        {
          "output_type": "display_data",
          "data": {
            "text/plain": [
              "   education        age            parity         induced      \n",
              " 0-5yrs : 12   Min.   :21.00   Min.   :1.000   Min.   :0.0000  \n",
              " 6-11yrs:120   1st Qu.:28.00   1st Qu.:1.000   1st Qu.:0.0000  \n",
              " 12+ yrs:116   Median :31.00   Median :2.000   Median :0.0000  \n",
              "               Mean   :31.50   Mean   :2.093   Mean   :0.5726  \n",
              "               3rd Qu.:35.25   3rd Qu.:3.000   3rd Qu.:1.0000  \n",
              "               Max.   :44.00   Max.   :6.000   Max.   :2.0000  \n",
              "      case         spontaneous        stratum      pooled.stratum \n",
              " Min.   :0.0000   Min.   :0.0000   Min.   : 1.00   Min.   : 1.00  \n",
              " 1st Qu.:0.0000   1st Qu.:0.0000   1st Qu.:21.00   1st Qu.:19.00  \n",
              " Median :0.0000   Median :0.0000   Median :42.00   Median :36.00  \n",
              " Mean   :0.3347   Mean   :0.5766   Mean   :41.87   Mean   :33.58  \n",
              " 3rd Qu.:1.0000   3rd Qu.:1.0000   3rd Qu.:62.25   3rd Qu.:48.25  \n",
              " Max.   :1.0000   Max.   :2.0000   Max.   :83.00   Max.   :63.00  "
            ]
          },
          "metadata": {}
        }
      ]
    },
    {
      "cell_type": "code",
      "source": [
        "'Note que nesse caso, há quantidade diferentes para a categoria education. E o trabalho aqui é fatiar o conjunto de forma proporcional"
      ],
      "metadata": {
        "id": "mmPYw75-fLIm"
      },
      "execution_count": null,
      "outputs": []
    },
    {
      "cell_type": "code",
      "source": [
        "#Para saber as proporções corretas calculamos: (quantidade da categoria / total instâncias) * quantidade de elementos da amostra que quero criar\n",
        "#a função ROUND arredonda o número\n",
        "\n",
        "# 0-5yrs\n",
        "round((12 / 248) * 100)"
      ],
      "metadata": {
        "colab": {
          "base_uri": "https://localhost:8080/",
          "height": 34
        },
        "id": "IYtLQauQfXE2",
        "outputId": "97be9e5b-475d-4d49-c1b5-6c2051078f0b"
      },
      "execution_count": 27,
      "outputs": [
        {
          "output_type": "display_data",
          "data": {
            "text/html": [
              "5"
            ],
            "text/markdown": "5",
            "text/latex": "5",
            "text/plain": [
              "[1] 5"
            ]
          },
          "metadata": {}
        }
      ]
    },
    {
      "cell_type": "code",
      "source": [
        "# 6-11yrs\n",
        "round((120 / 248) * 100)"
      ],
      "metadata": {
        "colab": {
          "base_uri": "https://localhost:8080/",
          "height": 34
        },
        "id": "QBX3C0T7gZNz",
        "outputId": "f517d8ff-887a-44eb-fe98-20004740b16e"
      },
      "execution_count": 28,
      "outputs": [
        {
          "output_type": "display_data",
          "data": {
            "text/html": [
              "48"
            ],
            "text/markdown": "48",
            "text/latex": "48",
            "text/plain": [
              "[1] 48"
            ]
          },
          "metadata": {}
        }
      ]
    },
    {
      "cell_type": "code",
      "source": [
        "# 12+ yrs\n",
        "round((116 / 248) * 100)"
      ],
      "metadata": {
        "colab": {
          "base_uri": "https://localhost:8080/",
          "height": 34
        },
        "id": "CMg54YFjguyY",
        "outputId": "1169551b-7a87-470c-a513-de4afa173fcc"
      },
      "execution_count": 29,
      "outputs": [
        {
          "output_type": "display_data",
          "data": {
            "text/html": [
              "47"
            ],
            "text/markdown": "47",
            "text/latex": "47",
            "text/plain": [
              "[1] 47"
            ]
          },
          "metadata": {}
        }
      ]
    },
    {
      "cell_type": "code",
      "source": [
        "'A amostra conterá proporcionalmente 5 pessoas de 0-5 yrs, 48 de 6-11 yrs e 47 12+ yrs."
      ],
      "metadata": {
        "id": "tJ8ODTLnhLc3"
      },
      "execution_count": null,
      "outputs": []
    },
    {
      "cell_type": "code",
      "source": [
        "#Extraindo amostra com as categorias porporcionalmente divididas\n",
        "amostraestratificada2 = strata(infert, c(\"education\"), size= c(5,48,47), method = \"srswor\")\n",
        "amostraestratificada2\n"
      ],
      "metadata": {
        "colab": {
          "base_uri": "https://localhost:8080/",
          "height": 1000
        },
        "id": "XWp4-1CChcDR",
        "outputId": "68809fff-5100-4f86-c07c-c963e38d6308"
      },
      "execution_count": 31,
      "outputs": [
        {
          "output_type": "display_data",
          "data": {
            "text/html": [
              "<table class=\"dataframe\">\n",
              "<caption>A data.frame: 100 × 4</caption>\n",
              "<thead>\n",
              "\t<tr><th></th><th scope=col>education</th><th scope=col>ID_unit</th><th scope=col>Prob</th><th scope=col>Stratum</th></tr>\n",
              "\t<tr><th></th><th scope=col>&lt;fct&gt;</th><th scope=col>&lt;int&gt;</th><th scope=col>&lt;dbl&gt;</th><th scope=col>&lt;int&gt;</th></tr>\n",
              "</thead>\n",
              "<tbody>\n",
              "\t<tr><th scope=row>2</th><td>0-5yrs </td><td>  2</td><td>0.4166667</td><td>1</td></tr>\n",
              "\t<tr><th scope=row>84</th><td>0-5yrs </td><td> 84</td><td>0.4166667</td><td>1</td></tr>\n",
              "\t<tr><th scope=row>85</th><td>0-5yrs </td><td> 85</td><td>0.4166667</td><td>1</td></tr>\n",
              "\t<tr><th scope=row>168</th><td>0-5yrs </td><td>168</td><td>0.4166667</td><td>1</td></tr>\n",
              "\t<tr><th scope=row>169</th><td>0-5yrs </td><td>169</td><td>0.4166667</td><td>1</td></tr>\n",
              "\t<tr><th scope=row>8</th><td>6-11yrs</td><td>  8</td><td>0.4000000</td><td>2</td></tr>\n",
              "\t<tr><th scope=row>12</th><td>6-11yrs</td><td> 12</td><td>0.4000000</td><td>2</td></tr>\n",
              "\t<tr><th scope=row>14</th><td>6-11yrs</td><td> 14</td><td>0.4000000</td><td>2</td></tr>\n",
              "\t<tr><th scope=row>15</th><td>6-11yrs</td><td> 15</td><td>0.4000000</td><td>2</td></tr>\n",
              "\t<tr><th scope=row>19</th><td>6-11yrs</td><td> 19</td><td>0.4000000</td><td>2</td></tr>\n",
              "\t<tr><th scope=row>20</th><td>6-11yrs</td><td> 20</td><td>0.4000000</td><td>2</td></tr>\n",
              "\t<tr><th scope=row>22</th><td>6-11yrs</td><td> 22</td><td>0.4000000</td><td>2</td></tr>\n",
              "\t<tr><th scope=row>24</th><td>6-11yrs</td><td> 24</td><td>0.4000000</td><td>2</td></tr>\n",
              "\t<tr><th scope=row>25</th><td>6-11yrs</td><td> 25</td><td>0.4000000</td><td>2</td></tr>\n",
              "\t<tr><th scope=row>26</th><td>6-11yrs</td><td> 26</td><td>0.4000000</td><td>2</td></tr>\n",
              "\t<tr><th scope=row>33</th><td>6-11yrs</td><td> 33</td><td>0.4000000</td><td>2</td></tr>\n",
              "\t<tr><th scope=row>34</th><td>6-11yrs</td><td> 34</td><td>0.4000000</td><td>2</td></tr>\n",
              "\t<tr><th scope=row>39</th><td>6-11yrs</td><td> 39</td><td>0.4000000</td><td>2</td></tr>\n",
              "\t<tr><th scope=row>40</th><td>6-11yrs</td><td> 40</td><td>0.4000000</td><td>2</td></tr>\n",
              "\t<tr><th scope=row>42</th><td>6-11yrs</td><td> 42</td><td>0.4000000</td><td>2</td></tr>\n",
              "\t<tr><th scope=row>89</th><td>6-11yrs</td><td> 89</td><td>0.4000000</td><td>2</td></tr>\n",
              "\t<tr><th scope=row>90</th><td>6-11yrs</td><td> 90</td><td>0.4000000</td><td>2</td></tr>\n",
              "\t<tr><th scope=row>92</th><td>6-11yrs</td><td> 92</td><td>0.4000000</td><td>2</td></tr>\n",
              "\t<tr><th scope=row>93</th><td>6-11yrs</td><td> 93</td><td>0.4000000</td><td>2</td></tr>\n",
              "\t<tr><th scope=row>97</th><td>6-11yrs</td><td> 97</td><td>0.4000000</td><td>2</td></tr>\n",
              "\t<tr><th scope=row>102</th><td>6-11yrs</td><td>102</td><td>0.4000000</td><td>2</td></tr>\n",
              "\t<tr><th scope=row>103</th><td>6-11yrs</td><td>103</td><td>0.4000000</td><td>2</td></tr>\n",
              "\t<tr><th scope=row>104</th><td>6-11yrs</td><td>104</td><td>0.4000000</td><td>2</td></tr>\n",
              "\t<tr><th scope=row>105</th><td>6-11yrs</td><td>105</td><td>0.4000000</td><td>2</td></tr>\n",
              "\t<tr><th scope=row>108</th><td>6-11yrs</td><td>108</td><td>0.4000000</td><td>2</td></tr>\n",
              "\t<tr><th scope=row>⋮</th><td>⋮</td><td>⋮</td><td>⋮</td><td>⋮</td></tr>\n",
              "\t<tr><th scope=row>129</th><td>12+ yrs</td><td>129</td><td>0.4051724</td><td>3</td></tr>\n",
              "\t<tr><th scope=row>130</th><td>12+ yrs</td><td>130</td><td>0.4051724</td><td>3</td></tr>\n",
              "\t<tr><th scope=row>131</th><td>12+ yrs</td><td>131</td><td>0.4051724</td><td>3</td></tr>\n",
              "\t<tr><th scope=row>132</th><td>12+ yrs</td><td>132</td><td>0.4051724</td><td>3</td></tr>\n",
              "\t<tr><th scope=row>138</th><td>12+ yrs</td><td>138</td><td>0.4051724</td><td>3</td></tr>\n",
              "\t<tr><th scope=row>141</th><td>12+ yrs</td><td>141</td><td>0.4051724</td><td>3</td></tr>\n",
              "\t<tr><th scope=row>142</th><td>12+ yrs</td><td>142</td><td>0.4051724</td><td>3</td></tr>\n",
              "\t<tr><th scope=row>143</th><td>12+ yrs</td><td>143</td><td>0.4051724</td><td>3</td></tr>\n",
              "\t<tr><th scope=row>145</th><td>12+ yrs</td><td>145</td><td>0.4051724</td><td>3</td></tr>\n",
              "\t<tr><th scope=row>147</th><td>12+ yrs</td><td>147</td><td>0.4051724</td><td>3</td></tr>\n",
              "\t<tr><th scope=row>148</th><td>12+ yrs</td><td>148</td><td>0.4051724</td><td>3</td></tr>\n",
              "\t<tr><th scope=row>149</th><td>12+ yrs</td><td>149</td><td>0.4051724</td><td>3</td></tr>\n",
              "\t<tr><th scope=row>152</th><td>12+ yrs</td><td>152</td><td>0.4051724</td><td>3</td></tr>\n",
              "\t<tr><th scope=row>158</th><td>12+ yrs</td><td>158</td><td>0.4051724</td><td>3</td></tr>\n",
              "\t<tr><th scope=row>162</th><td>12+ yrs</td><td>162</td><td>0.4051724</td><td>3</td></tr>\n",
              "\t<tr><th scope=row>165</th><td>12+ yrs</td><td>165</td><td>0.4051724</td><td>3</td></tr>\n",
              "\t<tr><th scope=row>211</th><td>12+ yrs</td><td>211</td><td>0.4051724</td><td>3</td></tr>\n",
              "\t<tr><th scope=row>214</th><td>12+ yrs</td><td>214</td><td>0.4051724</td><td>3</td></tr>\n",
              "\t<tr><th scope=row>216</th><td>12+ yrs</td><td>216</td><td>0.4051724</td><td>3</td></tr>\n",
              "\t<tr><th scope=row>217</th><td>12+ yrs</td><td>217</td><td>0.4051724</td><td>3</td></tr>\n",
              "\t<tr><th scope=row>218</th><td>12+ yrs</td><td>218</td><td>0.4051724</td><td>3</td></tr>\n",
              "\t<tr><th scope=row>222</th><td>12+ yrs</td><td>222</td><td>0.4051724</td><td>3</td></tr>\n",
              "\t<tr><th scope=row>227</th><td>12+ yrs</td><td>227</td><td>0.4051724</td><td>3</td></tr>\n",
              "\t<tr><th scope=row>233</th><td>12+ yrs</td><td>233</td><td>0.4051724</td><td>3</td></tr>\n",
              "\t<tr><th scope=row>234</th><td>12+ yrs</td><td>234</td><td>0.4051724</td><td>3</td></tr>\n",
              "\t<tr><th scope=row>235</th><td>12+ yrs</td><td>235</td><td>0.4051724</td><td>3</td></tr>\n",
              "\t<tr><th scope=row>236</th><td>12+ yrs</td><td>236</td><td>0.4051724</td><td>3</td></tr>\n",
              "\t<tr><th scope=row>245</th><td>12+ yrs</td><td>245</td><td>0.4051724</td><td>3</td></tr>\n",
              "\t<tr><th scope=row>246</th><td>12+ yrs</td><td>246</td><td>0.4051724</td><td>3</td></tr>\n",
              "\t<tr><th scope=row>248</th><td>12+ yrs</td><td>248</td><td>0.4051724</td><td>3</td></tr>\n",
              "</tbody>\n",
              "</table>\n"
            ],
            "text/markdown": "\nA data.frame: 100 × 4\n\n| <!--/--> | education &lt;fct&gt; | ID_unit &lt;int&gt; | Prob &lt;dbl&gt; | Stratum &lt;int&gt; |\n|---|---|---|---|---|\n| 2 | 0-5yrs  |   2 | 0.4166667 | 1 |\n| 84 | 0-5yrs  |  84 | 0.4166667 | 1 |\n| 85 | 0-5yrs  |  85 | 0.4166667 | 1 |\n| 168 | 0-5yrs  | 168 | 0.4166667 | 1 |\n| 169 | 0-5yrs  | 169 | 0.4166667 | 1 |\n| 8 | 6-11yrs |   8 | 0.4000000 | 2 |\n| 12 | 6-11yrs |  12 | 0.4000000 | 2 |\n| 14 | 6-11yrs |  14 | 0.4000000 | 2 |\n| 15 | 6-11yrs |  15 | 0.4000000 | 2 |\n| 19 | 6-11yrs |  19 | 0.4000000 | 2 |\n| 20 | 6-11yrs |  20 | 0.4000000 | 2 |\n| 22 | 6-11yrs |  22 | 0.4000000 | 2 |\n| 24 | 6-11yrs |  24 | 0.4000000 | 2 |\n| 25 | 6-11yrs |  25 | 0.4000000 | 2 |\n| 26 | 6-11yrs |  26 | 0.4000000 | 2 |\n| 33 | 6-11yrs |  33 | 0.4000000 | 2 |\n| 34 | 6-11yrs |  34 | 0.4000000 | 2 |\n| 39 | 6-11yrs |  39 | 0.4000000 | 2 |\n| 40 | 6-11yrs |  40 | 0.4000000 | 2 |\n| 42 | 6-11yrs |  42 | 0.4000000 | 2 |\n| 89 | 6-11yrs |  89 | 0.4000000 | 2 |\n| 90 | 6-11yrs |  90 | 0.4000000 | 2 |\n| 92 | 6-11yrs |  92 | 0.4000000 | 2 |\n| 93 | 6-11yrs |  93 | 0.4000000 | 2 |\n| 97 | 6-11yrs |  97 | 0.4000000 | 2 |\n| 102 | 6-11yrs | 102 | 0.4000000 | 2 |\n| 103 | 6-11yrs | 103 | 0.4000000 | 2 |\n| 104 | 6-11yrs | 104 | 0.4000000 | 2 |\n| 105 | 6-11yrs | 105 | 0.4000000 | 2 |\n| 108 | 6-11yrs | 108 | 0.4000000 | 2 |\n| ⋮ | ⋮ | ⋮ | ⋮ | ⋮ |\n| 129 | 12+ yrs | 129 | 0.4051724 | 3 |\n| 130 | 12+ yrs | 130 | 0.4051724 | 3 |\n| 131 | 12+ yrs | 131 | 0.4051724 | 3 |\n| 132 | 12+ yrs | 132 | 0.4051724 | 3 |\n| 138 | 12+ yrs | 138 | 0.4051724 | 3 |\n| 141 | 12+ yrs | 141 | 0.4051724 | 3 |\n| 142 | 12+ yrs | 142 | 0.4051724 | 3 |\n| 143 | 12+ yrs | 143 | 0.4051724 | 3 |\n| 145 | 12+ yrs | 145 | 0.4051724 | 3 |\n| 147 | 12+ yrs | 147 | 0.4051724 | 3 |\n| 148 | 12+ yrs | 148 | 0.4051724 | 3 |\n| 149 | 12+ yrs | 149 | 0.4051724 | 3 |\n| 152 | 12+ yrs | 152 | 0.4051724 | 3 |\n| 158 | 12+ yrs | 158 | 0.4051724 | 3 |\n| 162 | 12+ yrs | 162 | 0.4051724 | 3 |\n| 165 | 12+ yrs | 165 | 0.4051724 | 3 |\n| 211 | 12+ yrs | 211 | 0.4051724 | 3 |\n| 214 | 12+ yrs | 214 | 0.4051724 | 3 |\n| 216 | 12+ yrs | 216 | 0.4051724 | 3 |\n| 217 | 12+ yrs | 217 | 0.4051724 | 3 |\n| 218 | 12+ yrs | 218 | 0.4051724 | 3 |\n| 222 | 12+ yrs | 222 | 0.4051724 | 3 |\n| 227 | 12+ yrs | 227 | 0.4051724 | 3 |\n| 233 | 12+ yrs | 233 | 0.4051724 | 3 |\n| 234 | 12+ yrs | 234 | 0.4051724 | 3 |\n| 235 | 12+ yrs | 235 | 0.4051724 | 3 |\n| 236 | 12+ yrs | 236 | 0.4051724 | 3 |\n| 245 | 12+ yrs | 245 | 0.4051724 | 3 |\n| 246 | 12+ yrs | 246 | 0.4051724 | 3 |\n| 248 | 12+ yrs | 248 | 0.4051724 | 3 |\n\n",
            "text/latex": "A data.frame: 100 × 4\n\\begin{tabular}{r|llll}\n  & education & ID\\_unit & Prob & Stratum\\\\\n  & <fct> & <int> & <dbl> & <int>\\\\\n\\hline\n\t2 & 0-5yrs  &   2 & 0.4166667 & 1\\\\\n\t84 & 0-5yrs  &  84 & 0.4166667 & 1\\\\\n\t85 & 0-5yrs  &  85 & 0.4166667 & 1\\\\\n\t168 & 0-5yrs  & 168 & 0.4166667 & 1\\\\\n\t169 & 0-5yrs  & 169 & 0.4166667 & 1\\\\\n\t8 & 6-11yrs &   8 & 0.4000000 & 2\\\\\n\t12 & 6-11yrs &  12 & 0.4000000 & 2\\\\\n\t14 & 6-11yrs &  14 & 0.4000000 & 2\\\\\n\t15 & 6-11yrs &  15 & 0.4000000 & 2\\\\\n\t19 & 6-11yrs &  19 & 0.4000000 & 2\\\\\n\t20 & 6-11yrs &  20 & 0.4000000 & 2\\\\\n\t22 & 6-11yrs &  22 & 0.4000000 & 2\\\\\n\t24 & 6-11yrs &  24 & 0.4000000 & 2\\\\\n\t25 & 6-11yrs &  25 & 0.4000000 & 2\\\\\n\t26 & 6-11yrs &  26 & 0.4000000 & 2\\\\\n\t33 & 6-11yrs &  33 & 0.4000000 & 2\\\\\n\t34 & 6-11yrs &  34 & 0.4000000 & 2\\\\\n\t39 & 6-11yrs &  39 & 0.4000000 & 2\\\\\n\t40 & 6-11yrs &  40 & 0.4000000 & 2\\\\\n\t42 & 6-11yrs &  42 & 0.4000000 & 2\\\\\n\t89 & 6-11yrs &  89 & 0.4000000 & 2\\\\\n\t90 & 6-11yrs &  90 & 0.4000000 & 2\\\\\n\t92 & 6-11yrs &  92 & 0.4000000 & 2\\\\\n\t93 & 6-11yrs &  93 & 0.4000000 & 2\\\\\n\t97 & 6-11yrs &  97 & 0.4000000 & 2\\\\\n\t102 & 6-11yrs & 102 & 0.4000000 & 2\\\\\n\t103 & 6-11yrs & 103 & 0.4000000 & 2\\\\\n\t104 & 6-11yrs & 104 & 0.4000000 & 2\\\\\n\t105 & 6-11yrs & 105 & 0.4000000 & 2\\\\\n\t108 & 6-11yrs & 108 & 0.4000000 & 2\\\\\n\t⋮ & ⋮ & ⋮ & ⋮ & ⋮\\\\\n\t129 & 12+ yrs & 129 & 0.4051724 & 3\\\\\n\t130 & 12+ yrs & 130 & 0.4051724 & 3\\\\\n\t131 & 12+ yrs & 131 & 0.4051724 & 3\\\\\n\t132 & 12+ yrs & 132 & 0.4051724 & 3\\\\\n\t138 & 12+ yrs & 138 & 0.4051724 & 3\\\\\n\t141 & 12+ yrs & 141 & 0.4051724 & 3\\\\\n\t142 & 12+ yrs & 142 & 0.4051724 & 3\\\\\n\t143 & 12+ yrs & 143 & 0.4051724 & 3\\\\\n\t145 & 12+ yrs & 145 & 0.4051724 & 3\\\\\n\t147 & 12+ yrs & 147 & 0.4051724 & 3\\\\\n\t148 & 12+ yrs & 148 & 0.4051724 & 3\\\\\n\t149 & 12+ yrs & 149 & 0.4051724 & 3\\\\\n\t152 & 12+ yrs & 152 & 0.4051724 & 3\\\\\n\t158 & 12+ yrs & 158 & 0.4051724 & 3\\\\\n\t162 & 12+ yrs & 162 & 0.4051724 & 3\\\\\n\t165 & 12+ yrs & 165 & 0.4051724 & 3\\\\\n\t211 & 12+ yrs & 211 & 0.4051724 & 3\\\\\n\t214 & 12+ yrs & 214 & 0.4051724 & 3\\\\\n\t216 & 12+ yrs & 216 & 0.4051724 & 3\\\\\n\t217 & 12+ yrs & 217 & 0.4051724 & 3\\\\\n\t218 & 12+ yrs & 218 & 0.4051724 & 3\\\\\n\t222 & 12+ yrs & 222 & 0.4051724 & 3\\\\\n\t227 & 12+ yrs & 227 & 0.4051724 & 3\\\\\n\t233 & 12+ yrs & 233 & 0.4051724 & 3\\\\\n\t234 & 12+ yrs & 234 & 0.4051724 & 3\\\\\n\t235 & 12+ yrs & 235 & 0.4051724 & 3\\\\\n\t236 & 12+ yrs & 236 & 0.4051724 & 3\\\\\n\t245 & 12+ yrs & 245 & 0.4051724 & 3\\\\\n\t246 & 12+ yrs & 246 & 0.4051724 & 3\\\\\n\t248 & 12+ yrs & 248 & 0.4051724 & 3\\\\\n\\end{tabular}\n",
            "text/plain": [
              "    education ID_unit Prob      Stratum\n",
              "2   0-5yrs      2     0.4166667 1      \n",
              "84  0-5yrs     84     0.4166667 1      \n",
              "85  0-5yrs     85     0.4166667 1      \n",
              "168 0-5yrs    168     0.4166667 1      \n",
              "169 0-5yrs    169     0.4166667 1      \n",
              "8   6-11yrs     8     0.4000000 2      \n",
              "12  6-11yrs    12     0.4000000 2      \n",
              "14  6-11yrs    14     0.4000000 2      \n",
              "15  6-11yrs    15     0.4000000 2      \n",
              "19  6-11yrs    19     0.4000000 2      \n",
              "20  6-11yrs    20     0.4000000 2      \n",
              "22  6-11yrs    22     0.4000000 2      \n",
              "24  6-11yrs    24     0.4000000 2      \n",
              "25  6-11yrs    25     0.4000000 2      \n",
              "26  6-11yrs    26     0.4000000 2      \n",
              "33  6-11yrs    33     0.4000000 2      \n",
              "34  6-11yrs    34     0.4000000 2      \n",
              "39  6-11yrs    39     0.4000000 2      \n",
              "40  6-11yrs    40     0.4000000 2      \n",
              "42  6-11yrs    42     0.4000000 2      \n",
              "89  6-11yrs    89     0.4000000 2      \n",
              "90  6-11yrs    90     0.4000000 2      \n",
              "92  6-11yrs    92     0.4000000 2      \n",
              "93  6-11yrs    93     0.4000000 2      \n",
              "97  6-11yrs    97     0.4000000 2      \n",
              "102 6-11yrs   102     0.4000000 2      \n",
              "103 6-11yrs   103     0.4000000 2      \n",
              "104 6-11yrs   104     0.4000000 2      \n",
              "105 6-11yrs   105     0.4000000 2      \n",
              "108 6-11yrs   108     0.4000000 2      \n",
              "⋮   ⋮         ⋮       ⋮         ⋮      \n",
              "129 12+ yrs   129     0.4051724 3      \n",
              "130 12+ yrs   130     0.4051724 3      \n",
              "131 12+ yrs   131     0.4051724 3      \n",
              "132 12+ yrs   132     0.4051724 3      \n",
              "138 12+ yrs   138     0.4051724 3      \n",
              "141 12+ yrs   141     0.4051724 3      \n",
              "142 12+ yrs   142     0.4051724 3      \n",
              "143 12+ yrs   143     0.4051724 3      \n",
              "145 12+ yrs   145     0.4051724 3      \n",
              "147 12+ yrs   147     0.4051724 3      \n",
              "148 12+ yrs   148     0.4051724 3      \n",
              "149 12+ yrs   149     0.4051724 3      \n",
              "152 12+ yrs   152     0.4051724 3      \n",
              "158 12+ yrs   158     0.4051724 3      \n",
              "162 12+ yrs   162     0.4051724 3      \n",
              "165 12+ yrs   165     0.4051724 3      \n",
              "211 12+ yrs   211     0.4051724 3      \n",
              "214 12+ yrs   214     0.4051724 3      \n",
              "216 12+ yrs   216     0.4051724 3      \n",
              "217 12+ yrs   217     0.4051724 3      \n",
              "218 12+ yrs   218     0.4051724 3      \n",
              "222 12+ yrs   222     0.4051724 3      \n",
              "227 12+ yrs   227     0.4051724 3      \n",
              "233 12+ yrs   233     0.4051724 3      \n",
              "234 12+ yrs   234     0.4051724 3      \n",
              "235 12+ yrs   235     0.4051724 3      \n",
              "236 12+ yrs   236     0.4051724 3      \n",
              "245 12+ yrs   245     0.4051724 3      \n",
              "246 12+ yrs   246     0.4051724 3      \n",
              "248 12+ yrs   248     0.4051724 3      "
            ]
          },
          "metadata": {}
        }
      ]
    },
    {
      "cell_type": "code",
      "source": [
        "#Resumo estatístico da amostra com as categorias fatiadas proporcionalmente\n",
        "summary(amostraestratificada2)"
      ],
      "metadata": {
        "colab": {
          "base_uri": "https://localhost:8080/",
          "height": 138
        },
        "id": "JZLXLlxTi4dx",
        "outputId": "8aae22f5-93f2-4e85-cd17-90f2fdf5cd8c"
      },
      "execution_count": 32,
      "outputs": [
        {
          "output_type": "display_data",
          "data": {
            "text/plain": [
              "   education     ID_unit            Prob           Stratum    \n",
              " 0-5yrs : 5   Min.   :  2.00   Min.   :0.4000   Min.   :1.00  \n",
              " 6-11yrs:48   1st Qu.: 66.25   1st Qu.:0.4000   1st Qu.:2.00  \n",
              " 12+ yrs:47   Median :121.50   Median :0.4052   Median :2.00  \n",
              "              Mean   :122.86   Mean   :0.4033   Mean   :2.42  \n",
              "              3rd Qu.:180.25   3rd Qu.:0.4052   3rd Qu.:3.00  \n",
              "              Max.   :248.00   Max.   :0.4167   Max.   :3.00  "
            ]
          },
          "metadata": {}
        }
      ]
    },
    {
      "cell_type": "markdown",
      "source": [
        "# Amostra Sistemática"
      ],
      "metadata": {
        "id": "ylyy24mpeyHX"
      }
    },
    {
      "cell_type": "code",
      "source": [
        "#instalando biblioteca TeachingSampling\n",
        "install.packages(\"TeachingSampling\")"
      ],
      "metadata": {
        "colab": {
          "base_uri": "https://localhost:8080/"
        },
        "id": "i5vt_HQ5jGcw",
        "outputId": "d37a7e71-748a-41c1-807a-047a0f25fa0b"
      },
      "execution_count": 33,
      "outputs": [
        {
          "output_type": "stream",
          "name": "stderr",
          "text": [
            "Installing package into ‘/usr/local/lib/R/site-library’\n",
            "(as ‘lib’ is unspecified)\n",
            "\n"
          ]
        }
      ]
    },
    {
      "cell_type": "code",
      "source": [
        "#carregando biblioteca\n",
        "library(TeachingSampling)"
      ],
      "metadata": {
        "colab": {
          "base_uri": "https://localhost:8080/"
        },
        "id": "b1VxoGkvjK-6",
        "outputId": "804c932e-5988-4e84-d7c3-af8c4ac1a066"
      },
      "execution_count": 34,
      "outputs": [
        {
          "output_type": "stream",
          "name": "stderr",
          "text": [
            "Loading required package: dplyr\n",
            "\n",
            "\n",
            "Attaching package: ‘dplyr’\n",
            "\n",
            "\n",
            "The following objects are masked from ‘package:stats’:\n",
            "\n",
            "    filter, lag\n",
            "\n",
            "\n",
            "The following objects are masked from ‘package:base’:\n",
            "\n",
            "    intersect, setdiff, setequal, union\n",
            "\n",
            "\n",
            "Loading required package: magrittr\n",
            "\n"
          ]
        }
      ]
    },
    {
      "cell_type": "code",
      "source": [
        "#Exemplo de amostra sistemática de 150 instâncias, pulando de 10 em 10\n",
        "amostrasistematica = S.SY(150,10)\n",
        "amostrasistematica"
      ],
      "metadata": {
        "colab": {
          "base_uri": "https://localhost:8080/",
          "height": 591
        },
        "id": "mG5qB8UzjTB6",
        "outputId": "95e612f0-4966-4a12-bc21-01c9e3da235c"
      },
      "execution_count": 36,
      "outputs": [
        {
          "output_type": "display_data",
          "data": {
            "text/html": [
              "<table class=\"dataframe\">\n",
              "<caption>A matrix: 15 × 1 of type dbl</caption>\n",
              "<tbody>\n",
              "\t<tr><td>  2</td></tr>\n",
              "\t<tr><td> 12</td></tr>\n",
              "\t<tr><td> 22</td></tr>\n",
              "\t<tr><td> 32</td></tr>\n",
              "\t<tr><td> 42</td></tr>\n",
              "\t<tr><td> 52</td></tr>\n",
              "\t<tr><td> 62</td></tr>\n",
              "\t<tr><td> 72</td></tr>\n",
              "\t<tr><td> 82</td></tr>\n",
              "\t<tr><td> 92</td></tr>\n",
              "\t<tr><td>102</td></tr>\n",
              "\t<tr><td>112</td></tr>\n",
              "\t<tr><td>122</td></tr>\n",
              "\t<tr><td>132</td></tr>\n",
              "\t<tr><td>142</td></tr>\n",
              "</tbody>\n",
              "</table>\n"
            ],
            "text/markdown": "\nA matrix: 15 × 1 of type dbl\n\n|   2 |\n|  12 |\n|  22 |\n|  32 |\n|  42 |\n|  52 |\n|  62 |\n|  72 |\n|  82 |\n|  92 |\n| 102 |\n| 112 |\n| 122 |\n| 132 |\n| 142 |\n\n",
            "text/latex": "A matrix: 15 × 1 of type dbl\n\\begin{tabular}{l}\n\t   2\\\\\n\t  12\\\\\n\t  22\\\\\n\t  32\\\\\n\t  42\\\\\n\t  52\\\\\n\t  62\\\\\n\t  72\\\\\n\t  82\\\\\n\t  92\\\\\n\t 102\\\\\n\t 112\\\\\n\t 122\\\\\n\t 132\\\\\n\t 142\\\\\n\\end{tabular}\n",
            "text/plain": [
              "      [,1]\n",
              " [1,]   2 \n",
              " [2,]  12 \n",
              " [3,]  22 \n",
              " [4,]  32 \n",
              " [5,]  42 \n",
              " [6,]  52 \n",
              " [7,]  62 \n",
              " [8,]  72 \n",
              " [9,]  82 \n",
              "[10,]  92 \n",
              "[11,] 102 \n",
              "[12,] 112 \n",
              "[13,] 122 \n",
              "[14,] 132 \n",
              "[15,] 142 "
            ]
          },
          "metadata": {}
        }
      ]
    },
    {
      "cell_type": "code",
      "source": [
        "'O código escolhe o primeiro número de forma aleatória e agrega conforme parâmetro, no caso de 10 em 10."
      ],
      "metadata": {
        "id": "k_SsNHA6jmvA"
      },
      "execution_count": null,
      "outputs": []
    },
    {
      "cell_type": "code",
      "source": [
        "#Aplicando amostragem sistemática no conjunto iris\n",
        "amostrasisiris = iris [amostrasistematica,]\n",
        "amostrasisiris"
      ],
      "metadata": {
        "colab": {
          "base_uri": "https://localhost:8080/",
          "height": 568
        },
        "id": "C6Dy21Kqj3hO",
        "outputId": "748f3dd7-12e8-4d3c-aef5-1c329c115417"
      },
      "execution_count": 39,
      "outputs": [
        {
          "output_type": "display_data",
          "data": {
            "text/html": [
              "<table class=\"dataframe\">\n",
              "<caption>A data.frame: 15 × 5</caption>\n",
              "<thead>\n",
              "\t<tr><th></th><th scope=col>Sepal.Length</th><th scope=col>Sepal.Width</th><th scope=col>Petal.Length</th><th scope=col>Petal.Width</th><th scope=col>Species</th></tr>\n",
              "\t<tr><th></th><th scope=col>&lt;dbl&gt;</th><th scope=col>&lt;dbl&gt;</th><th scope=col>&lt;dbl&gt;</th><th scope=col>&lt;dbl&gt;</th><th scope=col>&lt;fct&gt;</th></tr>\n",
              "</thead>\n",
              "<tbody>\n",
              "\t<tr><th scope=row>2</th><td>4.9</td><td>3.0</td><td>1.4</td><td>0.2</td><td>setosa    </td></tr>\n",
              "\t<tr><th scope=row>12</th><td>4.8</td><td>3.4</td><td>1.6</td><td>0.2</td><td>setosa    </td></tr>\n",
              "\t<tr><th scope=row>22</th><td>5.1</td><td>3.7</td><td>1.5</td><td>0.4</td><td>setosa    </td></tr>\n",
              "\t<tr><th scope=row>32</th><td>5.4</td><td>3.4</td><td>1.5</td><td>0.4</td><td>setosa    </td></tr>\n",
              "\t<tr><th scope=row>42</th><td>4.5</td><td>2.3</td><td>1.3</td><td>0.3</td><td>setosa    </td></tr>\n",
              "\t<tr><th scope=row>52</th><td>6.4</td><td>3.2</td><td>4.5</td><td>1.5</td><td>versicolor</td></tr>\n",
              "\t<tr><th scope=row>62</th><td>5.9</td><td>3.0</td><td>4.2</td><td>1.5</td><td>versicolor</td></tr>\n",
              "\t<tr><th scope=row>72</th><td>6.1</td><td>2.8</td><td>4.0</td><td>1.3</td><td>versicolor</td></tr>\n",
              "\t<tr><th scope=row>82</th><td>5.5</td><td>2.4</td><td>3.7</td><td>1.0</td><td>versicolor</td></tr>\n",
              "\t<tr><th scope=row>92</th><td>6.1</td><td>3.0</td><td>4.6</td><td>1.4</td><td>versicolor</td></tr>\n",
              "\t<tr><th scope=row>102</th><td>5.8</td><td>2.7</td><td>5.1</td><td>1.9</td><td>virginica </td></tr>\n",
              "\t<tr><th scope=row>112</th><td>6.4</td><td>2.7</td><td>5.3</td><td>1.9</td><td>virginica </td></tr>\n",
              "\t<tr><th scope=row>122</th><td>5.6</td><td>2.8</td><td>4.9</td><td>2.0</td><td>virginica </td></tr>\n",
              "\t<tr><th scope=row>132</th><td>7.9</td><td>3.8</td><td>6.4</td><td>2.0</td><td>virginica </td></tr>\n",
              "\t<tr><th scope=row>142</th><td>6.9</td><td>3.1</td><td>5.1</td><td>2.3</td><td>virginica </td></tr>\n",
              "</tbody>\n",
              "</table>\n"
            ],
            "text/markdown": "\nA data.frame: 15 × 5\n\n| <!--/--> | Sepal.Length &lt;dbl&gt; | Sepal.Width &lt;dbl&gt; | Petal.Length &lt;dbl&gt; | Petal.Width &lt;dbl&gt; | Species &lt;fct&gt; |\n|---|---|---|---|---|---|\n| 2 | 4.9 | 3.0 | 1.4 | 0.2 | setosa     |\n| 12 | 4.8 | 3.4 | 1.6 | 0.2 | setosa     |\n| 22 | 5.1 | 3.7 | 1.5 | 0.4 | setosa     |\n| 32 | 5.4 | 3.4 | 1.5 | 0.4 | setosa     |\n| 42 | 4.5 | 2.3 | 1.3 | 0.3 | setosa     |\n| 52 | 6.4 | 3.2 | 4.5 | 1.5 | versicolor |\n| 62 | 5.9 | 3.0 | 4.2 | 1.5 | versicolor |\n| 72 | 6.1 | 2.8 | 4.0 | 1.3 | versicolor |\n| 82 | 5.5 | 2.4 | 3.7 | 1.0 | versicolor |\n| 92 | 6.1 | 3.0 | 4.6 | 1.4 | versicolor |\n| 102 | 5.8 | 2.7 | 5.1 | 1.9 | virginica  |\n| 112 | 6.4 | 2.7 | 5.3 | 1.9 | virginica  |\n| 122 | 5.6 | 2.8 | 4.9 | 2.0 | virginica  |\n| 132 | 7.9 | 3.8 | 6.4 | 2.0 | virginica  |\n| 142 | 6.9 | 3.1 | 5.1 | 2.3 | virginica  |\n\n",
            "text/latex": "A data.frame: 15 × 5\n\\begin{tabular}{r|lllll}\n  & Sepal.Length & Sepal.Width & Petal.Length & Petal.Width & Species\\\\\n  & <dbl> & <dbl> & <dbl> & <dbl> & <fct>\\\\\n\\hline\n\t2 & 4.9 & 3.0 & 1.4 & 0.2 & setosa    \\\\\n\t12 & 4.8 & 3.4 & 1.6 & 0.2 & setosa    \\\\\n\t22 & 5.1 & 3.7 & 1.5 & 0.4 & setosa    \\\\\n\t32 & 5.4 & 3.4 & 1.5 & 0.4 & setosa    \\\\\n\t42 & 4.5 & 2.3 & 1.3 & 0.3 & setosa    \\\\\n\t52 & 6.4 & 3.2 & 4.5 & 1.5 & versicolor\\\\\n\t62 & 5.9 & 3.0 & 4.2 & 1.5 & versicolor\\\\\n\t72 & 6.1 & 2.8 & 4.0 & 1.3 & versicolor\\\\\n\t82 & 5.5 & 2.4 & 3.7 & 1.0 & versicolor\\\\\n\t92 & 6.1 & 3.0 & 4.6 & 1.4 & versicolor\\\\\n\t102 & 5.8 & 2.7 & 5.1 & 1.9 & virginica \\\\\n\t112 & 6.4 & 2.7 & 5.3 & 1.9 & virginica \\\\\n\t122 & 5.6 & 2.8 & 4.9 & 2.0 & virginica \\\\\n\t132 & 7.9 & 3.8 & 6.4 & 2.0 & virginica \\\\\n\t142 & 6.9 & 3.1 & 5.1 & 2.3 & virginica \\\\\n\\end{tabular}\n",
            "text/plain": [
              "    Sepal.Length Sepal.Width Petal.Length Petal.Width Species   \n",
              "2   4.9          3.0         1.4          0.2         setosa    \n",
              "12  4.8          3.4         1.6          0.2         setosa    \n",
              "22  5.1          3.7         1.5          0.4         setosa    \n",
              "32  5.4          3.4         1.5          0.4         setosa    \n",
              "42  4.5          2.3         1.3          0.3         setosa    \n",
              "52  6.4          3.2         4.5          1.5         versicolor\n",
              "62  5.9          3.0         4.2          1.5         versicolor\n",
              "72  6.1          2.8         4.0          1.3         versicolor\n",
              "82  5.5          2.4         3.7          1.0         versicolor\n",
              "92  6.1          3.0         4.6          1.4         versicolor\n",
              "102 5.8          2.7         5.1          1.9         virginica \n",
              "112 6.4          2.7         5.3          1.9         virginica \n",
              "122 5.6          2.8         4.9          2.0         virginica \n",
              "132 7.9          3.8         6.4          2.0         virginica \n",
              "142 6.9          3.1         5.1          2.3         virginica "
            ]
          },
          "metadata": {}
        }
      ]
    },
    {
      "cell_type": "code",
      "source": [
        "'Note que o índice é o mesmo do bloco de código anterior."
      ],
      "metadata": {
        "id": "hY8l5zOqkFRn"
      },
      "execution_count": null,
      "outputs": []
    }
  ]
}